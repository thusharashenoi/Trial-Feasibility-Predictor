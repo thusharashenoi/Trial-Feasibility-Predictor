{
  "cells": [
    {
      "cell_type": "markdown",
      "metadata": {
        "id": "k70MjPXJ-Apb"
      },
      "source": [
        "# INTRODUCTION"
      ]
    },
    {
      "cell_type": "markdown",
      "metadata": {
        "id": "f2JgCvJnPWzo"
      },
      "source": [
        "**Project Title:** \"Predicting Completion of Clinical Studies with Explainability\"\n",
        "\n",
        "**Author:** Thushara R Shenoi\n",
        "\n",
        "**Date of Submission:** 25 Jan, 2024\n",
        "\n",
        "**Abstract:**\n",
        "\n",
        "Clinical trials are vital in advancing medical research by determining the efficacy and safety of new treatments. However, a significant number of trials fail to progress due to factors such as patient ineligibility, recruitment challenges, and unforeseen complications. These failures result in substantial financial losses, delays in life-saving treatments, and inefficiencies in resource allocation. To address this, I propose a machine learning-based solution that predicts the likelihood of a clinical trial being completed based on historical trial data. By leveraging structured and unstructured features, the model provides actionable insights into trial outcomes. Furthermore, I enhanced the solution with model explainability using SHAP and LIME, offering domain experts transparency into key factors influencing predictions. As an extended solution, I would also like to propose an AI-powered agent that allows scientists to interact with trial data through natural language queries. This agent provides detailed explanations for trial outcomes, suggests modifications to improve success rates, and offers insights from similar case studies, ultimately empowering researchers to design more effective clinical trials.\n",
        "\n",
        "\n",
        "**Business Context:**\n",
        "\n",
        "Clinical trials are the cornerstone of pharmaceutical research, enabling the development of treatments that improve patient outcomes and advance medical knowledge. However, these trials are complex, resource-intensive, and fraught with challenges. A significant proportion of clinical trials fail to reach completion, resulting in wasted financial investments, lost time, and unutilized laboratory resources. These failures can stem from various factors such as insufficient patient recruitment, overly stringent eligibility criteria, or unforeseen complications during the trial phases.\n",
        "\n",
        "The repercussions of failed trials are far-reaching. Pharmaceutical companies face immense financial losses, with billions of dollars spent on research that does not yield results. Moreover, delays caused by trial failures hinder the timely delivery of life-saving treatments to patients, further straining healthcare systems. These inefficiencies also dampen investor confidence and slow down innovation in the pharmaceutical sector.\n",
        "\n",
        "Given the high stakes and substantial costs involved, there is a pressing need for a data-driven approach to predict the likelihood of trial success. By leveraging historical clinical trial data, pharmaceutical companies can identify potential risks early, optimize resource allocation, and streamline the trial design process. Such predictive insights not only improve the probability of trial completion but also enhance overall operational efficiency and decision-making in the pharmaceutical industry.\n",
        "\n",
        "My proposed solution aims to address this pressing issue by utilizing machine learning models to predict trial outcomes, providing explainability to align predictions with domain understanding, and enabling researchers to design more effective and efficient clinical trials.\n",
        "\n",
        "**Dataset Overview:**\n",
        "\n",
        "Information about the dataset:\n",
        "\n",
        "1.  **Source:** clinicaltrials.gov\n",
        "2.  **Size:** Subset of 450,000 trials\n",
        "\n",
        "The following is the procedure to build the model which could tell us whether the trial proposed is going to succeed or not.\n",
        "\n",
        "\n",
        "\n",
        "\n",
        "\n"
      ]
    },
    {
      "cell_type": "markdown",
      "metadata": {
        "id": "5tXNMf2QgvVk"
      },
      "source": [
        "# **Mounting Google Drive in Google Colab**\n",
        "\n",
        "**Objective:**\n",
        "\n",
        "Connect Google Colab to your Google Drive to access datasets stored in the Drive. This step ensures that files can easily be read and written into directly from/to the Drive while working in Colab."
      ]
    },
    {
      "cell_type": "code",
      "execution_count": 1,
      "metadata": {
        "colab": {
          "base_uri": "https://localhost:8080/"
        },
        "id": "XrN1e7N2gYcO",
        "outputId": "b2757696-e3c6-480a-a71c-7d6e3a87c2a0"
      },
      "outputs": [
        {
          "name": "stdout",
          "output_type": "stream",
          "text": [
            "Mounted at /content/drive\n"
          ]
        }
      ],
      "source": [
        "# mount google drive and give colaboratory the access to the datasets.\n",
        "from google.colab import drive\n",
        "drive.mount('/content/drive')"
      ]
    },
    {
      "cell_type": "markdown",
      "metadata": {
        "id": "1Vgkz0LOShu-"
      },
      "source": [
        "# Importing Necessary Libraries\n",
        "\n",
        "**Objective:**\n",
        "\n",
        "Import all the libraries required for data processing, visualization, building and evaluating machine learning models."
      ]
    },
    {
      "cell_type": "code",
      "execution_count": 2,
      "metadata": {
        "colab": {
          "base_uri": "https://localhost:8080/"
        },
        "id": "-C85Cy0hKwOS",
        "outputId": "dba21217-a888-4c5f-d9b1-93e880f4a22f"
      },
      "outputs": [
        {
          "name": "stdout",
          "output_type": "stream",
          "text": [
            "Collecting optuna\n",
            "  Downloading optuna-4.2.0-py3-none-any.whl.metadata (17 kB)\n",
            "Collecting alembic>=1.5.0 (from optuna)\n",
            "  Downloading alembic-1.14.1-py3-none-any.whl.metadata (7.4 kB)\n",
            "Collecting colorlog (from optuna)\n",
            "  Downloading colorlog-6.9.0-py3-none-any.whl.metadata (10 kB)\n",
            "Requirement already satisfied: numpy in /usr/local/lib/python3.11/dist-packages (from optuna) (1.26.4)\n",
            "Requirement already satisfied: packaging>=20.0 in /usr/local/lib/python3.11/dist-packages (from optuna) (24.2)\n",
            "Requirement already satisfied: sqlalchemy>=1.4.2 in /usr/local/lib/python3.11/dist-packages (from optuna) (2.0.37)\n",
            "Requirement already satisfied: tqdm in /usr/local/lib/python3.11/dist-packages (from optuna) (4.67.1)\n",
            "Requirement already satisfied: PyYAML in /usr/local/lib/python3.11/dist-packages (from optuna) (6.0.2)\n",
            "Collecting Mako (from alembic>=1.5.0->optuna)\n",
            "  Downloading Mako-1.3.8-py3-none-any.whl.metadata (2.9 kB)\n",
            "Requirement already satisfied: typing-extensions>=4 in /usr/local/lib/python3.11/dist-packages (from alembic>=1.5.0->optuna) (4.12.2)\n",
            "Requirement already satisfied: greenlet!=0.4.17 in /usr/local/lib/python3.11/dist-packages (from sqlalchemy>=1.4.2->optuna) (3.1.1)\n",
            "Requirement already satisfied: MarkupSafe>=0.9.2 in /usr/local/lib/python3.11/dist-packages (from Mako->alembic>=1.5.0->optuna) (3.0.2)\n",
            "Downloading optuna-4.2.0-py3-none-any.whl (383 kB)\n",
            "\u001b[2K   \u001b[90m━━━━━━━━━━━━━━━━━━━━━━━━━━━━━━━━━━━━━━━━\u001b[0m \u001b[32m383.4/383.4 kB\u001b[0m \u001b[31m11.6 MB/s\u001b[0m eta \u001b[36m0:00:00\u001b[0m\n",
            "\u001b[?25hDownloading alembic-1.14.1-py3-none-any.whl (233 kB)\n",
            "\u001b[2K   \u001b[90m━━━━━━━━━━━━━━━━━━━━━━━━━━━━━━━━━━━━━━━━\u001b[0m \u001b[32m233.6/233.6 kB\u001b[0m \u001b[31m15.7 MB/s\u001b[0m eta \u001b[36m0:00:00\u001b[0m\n",
            "\u001b[?25hDownloading colorlog-6.9.0-py3-none-any.whl (11 kB)\n",
            "Downloading Mako-1.3.8-py3-none-any.whl (78 kB)\n",
            "\u001b[2K   \u001b[90m━━━━━━━━━━━━━━━━━━━━━━━━━━━━━━━━━━━━━━━━\u001b[0m \u001b[32m78.6/78.6 kB\u001b[0m \u001b[31m5.5 MB/s\u001b[0m eta \u001b[36m0:00:00\u001b[0m\n",
            "\u001b[?25hInstalling collected packages: Mako, colorlog, alembic, optuna\n",
            "Successfully installed Mako-1.3.8 alembic-1.14.1 colorlog-6.9.0 optuna-4.2.0\n"
          ]
        }
      ],
      "source": [
        "!pip install optuna"
      ]
    },
    {
      "cell_type": "code",
      "execution_count": 3,
      "metadata": {
        "id": "0UTxcTIAgZQ7"
      },
      "outputs": [],
      "source": [
        "# Import all necessary libraries\n",
        "import numpy as np\n",
        "import pandas as pd\n",
        "import matplotlib.pyplot as plt\n",
        "import seaborn as sns\n",
        "from sklearn.preprocessing import OneHotEncoder\n",
        "from sklearn.model_selection import train_test_split\n",
        "from sklearn.ensemble import RandomForestClassifier\n",
        "from sklearn.metrics import classification_report, accuracy_score, roc_auc_score, confusion_matrix\n",
        "from collections import Counter\n",
        "from sklearn.preprocessing import LabelEncoder, StandardScaler\n",
        "import optuna"
      ]
    },
    {
      "cell_type": "markdown",
      "metadata": {
        "id": "6dBRd51tS0gy"
      },
      "source": [
        "# Loading the Datasets\n",
        "\n",
        "**Objective:**\n",
        "\n",
        " Load the datasets from the Google Drive into the Colab environment for further analysis and processing."
      ]
    },
    {
      "cell_type": "code",
      "execution_count": 4,
      "metadata": {
        "id": "tIJBb5LsgbiM"
      },
      "outputs": [],
      "source": [
        "# Load datasets\n",
        "eligibilities = pd.read_csv('/content/drive/MyDrive/Novartis/eligibilities.csv')\n",
        "drop_withdrawals = pd.read_csv('/content/drive/MyDrive/Novartis/drop_withdrawals.csv')\n",
        "facilities = pd.read_csv('/content/drive/MyDrive/Novartis/facilities.csv')\n",
        "reported_events = pd.read_csv('/content/drive/MyDrive/Novartis/reported_events.csv')\n",
        "usecase= pd.read_csv('/content/drive/MyDrive/Novartis/usecase_3_.csv')"
      ]
    },
    {
      "cell_type": "markdown",
      "metadata": {
        "id": "lTd4fELy957f"
      },
      "source": [
        "# DATA PREPROCESSING"
      ]
    },
    {
      "cell_type": "markdown",
      "metadata": {
        "id": "TNVGTv-xJfEI"
      },
      "source": [
        "## Preprocessing, Missing Data Handling, and Feature Engineering\n",
        "\n",
        "**Objective:**\n",
        "The goal of this step is to prepare the data for machine learning modeling by handling missing values, creating new features, and ensuring the data is in a clean and usable format."
      ]
    },
    {
      "cell_type": "code",
      "execution_count": 5,
      "metadata": {
        "id": "lZH5gICgsl_k"
      },
      "outputs": [],
      "source": [
        "## Step 1: Renaming Columns and Dropping Duplicates\n",
        "\n",
        "usecase = usecase.rename(columns={'NCT Number': 'nct_id'})\n",
        "facilities = facilities.drop_duplicates(subset=['nct_id'])\n",
        "reported_events = reported_events.drop_duplicates(subset=['nct_id'])\n",
        "\n",
        "## Step 2: Merging Datasets\n",
        "\n",
        "merged_data = usecase.merge(eligibilities, on='nct_id', how='left') \\\n",
        "                     .merge(drop_withdrawals, on='nct_id', how='left') \\\n",
        "                     .merge(facilities, on='nct_id', how='left', suffixes=('_facilities', '_drop_withdrawals')) \\\n",
        "                     .merge(reported_events, on='nct_id', how='left', suffixes=('_reported_events', '_facilities'))\n",
        "\n",
        "## Step 3: Handling Missing Values\n",
        "\n",
        "# Drop rows with more than 50% missing data\n",
        "merged_data = merged_data.dropna(thresh=merged_data.shape[1] * 0.5, axis=0)\n",
        "\n",
        "# Impute remaining missing values with 'UNKNOWN'\n",
        "merged_data = merged_data.fillna('UNKNOWN')\n",
        "\n",
        "## Step 4: Feature Engineering\n",
        "\n",
        "# Save the 'Study Status' column for later use\n",
        "study_status = merged_data['Study Status']\n",
        "\n",
        "# One-hot encoding of categorical columns (keep 'Study Status' for later)\n",
        "encoder = OneHotEncoder(sparse_output=False, handle_unknown='ignore')\n",
        "encoded_features = encoder.fit_transform(merged_data[['gender', 'Study Status', 'country']])\n",
        "\n",
        "# Convert the encoded features to a DataFrame\n",
        "encoded_df = pd.DataFrame(encoded_features, columns=encoder.get_feature_names_out(['gender', 'Study Status', 'country']))\n",
        "\n",
        "# Concatenate the encoded columns back into the original dataframe\n",
        "merged_data = pd.concat([merged_data, encoded_df], axis=1)\n",
        "\n",
        "# Drop the original categorical columns, except 'Study Status'\n",
        "merged_data.drop(['gender', 'country'], axis=1, inplace=True)\n",
        "\n",
        "\n",
        "## Step 5: Converting Age Columns to Numeric Values\n",
        "merged_data['minimum_age'] = pd.to_numeric(merged_data['minimum_age'], errors='coerce')\n",
        "merged_data['maximum_age'] = pd.to_numeric(merged_data['maximum_age'], errors='coerce')\n",
        "\n",
        "## Step 6: Dropping Unnecessary Columns\n",
        "merged_data = merged_data.drop(columns=['criteria', 'description', 'adverse_event_term'])\n",
        "\n",
        "## Step 7: Cleaning Column Names\n",
        "merged_data.columns = merged_data.columns.str.strip()\n",
        "\n",
        "## Step 8: Dropping Rows with Missing 'Study Status'\n",
        "merged_data = merged_data.dropna(subset=['Study Status'])"
      ]
    },
    {
      "cell_type": "markdown",
      "metadata": {
        "id": "z5FZxot-UMRs"
      },
      "source": [
        "## Generating a Missing Values and Unique Values Report\n",
        "To ensure the dataset is fully cleaned and prepared for further analysis, we generate a report that highlights:\n",
        "\n",
        "1. Missing Values: The count and percentage of missing data for each column.\n",
        "2. Unique Values: The number of distinct values in each column, helping identify potential categorical variables or anomalies.\n",
        "\n",
        "Although the data has been preprocessed, this report helps identify any overlooked issues and ensures that the data is ready for modeling."
      ]
    },
    {
      "cell_type": "code",
      "execution_count": 6,
      "metadata": {
        "colab": {
          "base_uri": "https://localhost:8080/"
        },
        "id": "bjnRd9oi-2K5",
        "outputId": "88c688a1-e533-4d50-bf2a-629789e6f112"
      },
      "outputs": [
        {
          "name": "stdout",
          "output_type": "stream",
          "text": [
            "                   Missing Values  Unique Values Data Type\n",
            "Unnamed: 0.1                    0         223380   float64\n",
            "Unnamed: 0                      0         223380   float64\n",
            "nct_id                          0         223380    object\n",
            "Study Title                     0         222850    object\n",
            "Study URL                       0         223380    object\n",
            "...                           ...            ...       ...\n",
            "country_Venezuela           32371              2   float64\n",
            "country_Vietnam             32371              2   float64\n",
            "country_Yemen               32371              2   float64\n",
            "country_Zambia              32371              2   float64\n",
            "country_Zimbabwe            32371              2   float64\n",
            "\n",
            "[276 rows x 3 columns]\n"
          ]
        }
      ],
      "source": [
        "## Step 9: Check for missing values and unique values\n",
        "missing_info = merged_data.isnull().sum()\n",
        "unique_info = merged_data.nunique()\n",
        "\n",
        "feature_summary = pd.DataFrame({\n",
        "    'Missing Values': missing_info,\n",
        "    'Unique Values': unique_info,\n",
        "    'Data Type': merged_data.dtypes\n",
        "})\n",
        "\n",
        "print(feature_summary)\n"
      ]
    },
    {
      "cell_type": "markdown",
      "metadata": {
        "id": "v00xak2rUZZQ"
      },
      "source": [
        "\n",
        "## Aggregating Country-Level Data into Continent-Level Data\n",
        "\n",
        "In this step, we extract the names of individual countries from the column names and consolidate them into broader categories based on continents. By grouping data at the continent level and dropping individual country columns, we significantly reduce the number of features, which simplifies the dataset and enhances computational efficiency without losing meaningful information.\n",
        "\n",
        "\n",
        "\n",
        "\n",
        "\n",
        "\n",
        "\n"
      ]
    },
    {
      "cell_type": "code",
      "execution_count": 7,
      "metadata": {
        "colab": {
          "base_uri": "https://localhost:8080/"
        },
        "id": "_kknHGQ5AXQ9",
        "outputId": "16ea1fdb-692e-4ac6-b3bc-18ce9d624777"
      },
      "outputs": [
        {
          "name": "stdout",
          "output_type": "stream",
          "text": [
            "Unique countries in the dataset:\n",
            "['Afghanistan', 'Albania', 'Algeria', 'American Samoa', 'Andorra', 'Antigua and Barbuda', 'Argentina', 'Armenia', 'Australia', 'Austria', 'Azerbaijan', 'Bahamas', 'Bahrain', 'Bangladesh', 'Barbados', 'Belarus', 'Belgium', 'Benin', 'Bhutan', 'Bolivia', 'Bosnia and Herzegovina', 'Botswana', 'Brazil', 'Brunei Darussalam', 'Bulgaria', 'Burkina Faso', 'Burundi', 'Cambodia', 'Cameroon', 'Canada', 'Cayman Islands', 'Central African Republic', 'Chad', 'Chile', 'China', 'Colombia', 'Comoros', 'Congo', 'Congo, The Democratic Republic of the', 'Costa Rica', 'Croatia', 'Cuba', 'Cyprus', 'Czech Republic', 'Czechia', \"Côte D'Ivoire\", 'Denmark', 'Dominican Republic', 'Ecuador', 'Egypt', 'El Salvador', 'Equatorial Guinea', 'Eritrea', 'Estonia', 'Ethiopia', 'Faroe Islands', 'Federated States of Micronesia', 'Fiji', 'Finland', 'Former Serbia and Montenegro', 'Former Yugoslavia', 'France', 'French Guiana', 'French Polynesia', 'Gabon', 'Gambia', 'Georgia', 'Germany', 'Ghana', 'Greece', 'Greenland', 'Grenada', 'Guadeloupe', 'Guam', 'Guatemala', 'Guinea', 'Guinea-Bissau', 'Haiti', 'Holy See (Vatican City State)', 'Honduras', 'Hong Kong', 'Hungary', 'Iceland', 'India', 'Indonesia', 'Iran, Islamic Republic of', 'Iraq', 'Ireland', 'Israel', 'Italy', 'Jamaica', 'Japan', 'Jersey', 'Jordan', 'Kazakhstan', 'Kenya', 'Korea, Republic of', 'Kosovo', 'Kuwait', 'Kyrgyzstan', \"Lao People's Democratic Republic\", 'Latvia', 'Lebanon', 'Lesotho', 'Liberia', 'Libyan Arab Jamahiriya', 'Lithuania', 'Luxembourg', 'Macau', 'Macedonia, The Former Yugoslav Republic of', 'Madagascar', 'Malawi', 'Malaysia', 'Mali', 'Malta', 'Martinique', 'Mauritius', 'Mexico', 'Moldova, Republic of', 'Monaco', 'Mongolia', 'Montenegro', 'Morocco', 'Mozambique', 'Myanmar', 'Namibia', 'Nepal', 'Netherlands', 'New Caledonia', 'New Zealand', 'Nicaragua', 'Niger', 'Nigeria', 'North Macedonia', 'Northern Mariana Islands', 'Norway', 'Oman', 'Pakistan', 'Palestinian Territories, Occupied', 'Palestinian Territory, occupied', 'Panama', 'Papua New Guinea', 'Paraguay', 'Peru', 'Philippines', 'Poland', 'Portugal', 'Puerto Rico', 'Qatar', 'Romania', 'Russian Federation', 'Rwanda', 'Réunion', 'Saint Kitts and Nevis', 'Samoa', 'San Marino', 'Saudi Arabia', 'Senegal', 'Serbia', 'Sierra Leone', 'Singapore', 'Slovakia', 'Slovenia', 'Solomon Islands', 'Somalia', 'South Africa', 'South Sudan', 'Spain', 'Sri Lanka', 'Sudan', 'Suriname', 'Swaziland', 'Sweden', 'Switzerland', 'Syrian Arab Republic', 'Taiwan', 'Tanzania', 'Thailand', 'Trinidad and Tobago', 'Tunisia', 'Turkey', 'UNKNOWN', 'Uganda', 'Ukraine', 'United Arab Emirates', 'United Kingdom', 'United States', 'United States Minor Outlying Islands', 'Uruguay', 'Uzbekistan', 'Vanuatu', 'Venezuela', 'Vietnam', 'Yemen', 'Zambia', 'Zimbabwe']\n"
          ]
        }
      ],
      "source": [
        "# Extract the country-related columns\n",
        "country_columns = [col for col in merged_data.columns if col.startswith('country_')]\n",
        "\n",
        "# Extract the country names by stripping the 'country_' prefix\n",
        "countries = [col.replace('country_', '') for col in country_columns]\n",
        "\n",
        "# Display the unique countries\n",
        "print(\"Unique countries in the dataset:\")\n",
        "print(countries)"
      ]
    },
    {
      "cell_type": "code",
      "execution_count": 8,
      "metadata": {
        "colab": {
          "base_uri": "https://localhost:8080/"
        },
        "id": "-2oy4XZJ_qjQ",
        "outputId": "9dab0654-809b-4f74-fe89-2e181926567d"
      },
      "outputs": [
        {
          "name": "stderr",
          "output_type": "stream",
          "text": [
            "<ipython-input-8-d9bcea4e968f>:54: PerformanceWarning: DataFrame is highly fragmented.  This is usually the result of calling `frame.insert` many times, which has poor performance.  Consider joining all columns at once using pd.concat(axis=1) instead. To get a de-fragmented frame, use `newframe = frame.copy()`\n",
            "  merged_data[f'region_{country}'] = merged_data[f'country_{country}'].apply(\n",
            "<ipython-input-8-d9bcea4e968f>:54: PerformanceWarning: DataFrame is highly fragmented.  This is usually the result of calling `frame.insert` many times, which has poor performance.  Consider joining all columns at once using pd.concat(axis=1) instead. To get a de-fragmented frame, use `newframe = frame.copy()`\n",
            "  merged_data[f'region_{country}'] = merged_data[f'country_{country}'].apply(\n",
            "<ipython-input-8-d9bcea4e968f>:54: PerformanceWarning: DataFrame is highly fragmented.  This is usually the result of calling `frame.insert` many times, which has poor performance.  Consider joining all columns at once using pd.concat(axis=1) instead. To get a de-fragmented frame, use `newframe = frame.copy()`\n",
            "  merged_data[f'region_{country}'] = merged_data[f'country_{country}'].apply(\n",
            "<ipython-input-8-d9bcea4e968f>:54: PerformanceWarning: DataFrame is highly fragmented.  This is usually the result of calling `frame.insert` many times, which has poor performance.  Consider joining all columns at once using pd.concat(axis=1) instead. To get a de-fragmented frame, use `newframe = frame.copy()`\n",
            "  merged_data[f'region_{country}'] = merged_data[f'country_{country}'].apply(\n",
            "<ipython-input-8-d9bcea4e968f>:54: PerformanceWarning: DataFrame is highly fragmented.  This is usually the result of calling `frame.insert` many times, which has poor performance.  Consider joining all columns at once using pd.concat(axis=1) instead. To get a de-fragmented frame, use `newframe = frame.copy()`\n",
            "  merged_data[f'region_{country}'] = merged_data[f'country_{country}'].apply(\n",
            "<ipython-input-8-d9bcea4e968f>:54: PerformanceWarning: DataFrame is highly fragmented.  This is usually the result of calling `frame.insert` many times, which has poor performance.  Consider joining all columns at once using pd.concat(axis=1) instead. To get a de-fragmented frame, use `newframe = frame.copy()`\n",
            "  merged_data[f'region_{country}'] = merged_data[f'country_{country}'].apply(\n",
            "<ipython-input-8-d9bcea4e968f>:54: PerformanceWarning: DataFrame is highly fragmented.  This is usually the result of calling `frame.insert` many times, which has poor performance.  Consider joining all columns at once using pd.concat(axis=1) instead. To get a de-fragmented frame, use `newframe = frame.copy()`\n",
            "  merged_data[f'region_{country}'] = merged_data[f'country_{country}'].apply(\n",
            "<ipython-input-8-d9bcea4e968f>:54: PerformanceWarning: DataFrame is highly fragmented.  This is usually the result of calling `frame.insert` many times, which has poor performance.  Consider joining all columns at once using pd.concat(axis=1) instead. To get a de-fragmented frame, use `newframe = frame.copy()`\n",
            "  merged_data[f'region_{country}'] = merged_data[f'country_{country}'].apply(\n",
            "<ipython-input-8-d9bcea4e968f>:54: PerformanceWarning: DataFrame is highly fragmented.  This is usually the result of calling `frame.insert` many times, which has poor performance.  Consider joining all columns at once using pd.concat(axis=1) instead. To get a de-fragmented frame, use `newframe = frame.copy()`\n",
            "  merged_data[f'region_{country}'] = merged_data[f'country_{country}'].apply(\n",
            "<ipython-input-8-d9bcea4e968f>:54: PerformanceWarning: DataFrame is highly fragmented.  This is usually the result of calling `frame.insert` many times, which has poor performance.  Consider joining all columns at once using pd.concat(axis=1) instead. To get a de-fragmented frame, use `newframe = frame.copy()`\n",
            "  merged_data[f'region_{country}'] = merged_data[f'country_{country}'].apply(\n",
            "<ipython-input-8-d9bcea4e968f>:54: PerformanceWarning: DataFrame is highly fragmented.  This is usually the result of calling `frame.insert` many times, which has poor performance.  Consider joining all columns at once using pd.concat(axis=1) instead. To get a de-fragmented frame, use `newframe = frame.copy()`\n",
            "  merged_data[f'region_{country}'] = merged_data[f'country_{country}'].apply(\n",
            "<ipython-input-8-d9bcea4e968f>:54: PerformanceWarning: DataFrame is highly fragmented.  This is usually the result of calling `frame.insert` many times, which has poor performance.  Consider joining all columns at once using pd.concat(axis=1) instead. To get a de-fragmented frame, use `newframe = frame.copy()`\n",
            "  merged_data[f'region_{country}'] = merged_data[f'country_{country}'].apply(\n",
            "<ipython-input-8-d9bcea4e968f>:54: PerformanceWarning: DataFrame is highly fragmented.  This is usually the result of calling `frame.insert` many times, which has poor performance.  Consider joining all columns at once using pd.concat(axis=1) instead. To get a de-fragmented frame, use `newframe = frame.copy()`\n",
            "  merged_data[f'region_{country}'] = merged_data[f'country_{country}'].apply(\n",
            "<ipython-input-8-d9bcea4e968f>:54: PerformanceWarning: DataFrame is highly fragmented.  This is usually the result of calling `frame.insert` many times, which has poor performance.  Consider joining all columns at once using pd.concat(axis=1) instead. To get a de-fragmented frame, use `newframe = frame.copy()`\n",
            "  merged_data[f'region_{country}'] = merged_data[f'country_{country}'].apply(\n",
            "<ipython-input-8-d9bcea4e968f>:54: PerformanceWarning: DataFrame is highly fragmented.  This is usually the result of calling `frame.insert` many times, which has poor performance.  Consider joining all columns at once using pd.concat(axis=1) instead. To get a de-fragmented frame, use `newframe = frame.copy()`\n",
            "  merged_data[f'region_{country}'] = merged_data[f'country_{country}'].apply(\n",
            "<ipython-input-8-d9bcea4e968f>:54: PerformanceWarning: DataFrame is highly fragmented.  This is usually the result of calling `frame.insert` many times, which has poor performance.  Consider joining all columns at once using pd.concat(axis=1) instead. To get a de-fragmented frame, use `newframe = frame.copy()`\n",
            "  merged_data[f'region_{country}'] = merged_data[f'country_{country}'].apply(\n",
            "<ipython-input-8-d9bcea4e968f>:54: PerformanceWarning: DataFrame is highly fragmented.  This is usually the result of calling `frame.insert` many times, which has poor performance.  Consider joining all columns at once using pd.concat(axis=1) instead. To get a de-fragmented frame, use `newframe = frame.copy()`\n",
            "  merged_data[f'region_{country}'] = merged_data[f'country_{country}'].apply(\n",
            "<ipython-input-8-d9bcea4e968f>:54: PerformanceWarning: DataFrame is highly fragmented.  This is usually the result of calling `frame.insert` many times, which has poor performance.  Consider joining all columns at once using pd.concat(axis=1) instead. To get a de-fragmented frame, use `newframe = frame.copy()`\n",
            "  merged_data[f'region_{country}'] = merged_data[f'country_{country}'].apply(\n",
            "<ipython-input-8-d9bcea4e968f>:54: PerformanceWarning: DataFrame is highly fragmented.  This is usually the result of calling `frame.insert` many times, which has poor performance.  Consider joining all columns at once using pd.concat(axis=1) instead. To get a de-fragmented frame, use `newframe = frame.copy()`\n",
            "  merged_data[f'region_{country}'] = merged_data[f'country_{country}'].apply(\n",
            "<ipython-input-8-d9bcea4e968f>:54: PerformanceWarning: DataFrame is highly fragmented.  This is usually the result of calling `frame.insert` many times, which has poor performance.  Consider joining all columns at once using pd.concat(axis=1) instead. To get a de-fragmented frame, use `newframe = frame.copy()`\n",
            "  merged_data[f'region_{country}'] = merged_data[f'country_{country}'].apply(\n",
            "<ipython-input-8-d9bcea4e968f>:54: PerformanceWarning: DataFrame is highly fragmented.  This is usually the result of calling `frame.insert` many times, which has poor performance.  Consider joining all columns at once using pd.concat(axis=1) instead. To get a de-fragmented frame, use `newframe = frame.copy()`\n",
            "  merged_data[f'region_{country}'] = merged_data[f'country_{country}'].apply(\n",
            "<ipython-input-8-d9bcea4e968f>:54: PerformanceWarning: DataFrame is highly fragmented.  This is usually the result of calling `frame.insert` many times, which has poor performance.  Consider joining all columns at once using pd.concat(axis=1) instead. To get a de-fragmented frame, use `newframe = frame.copy()`\n",
            "  merged_data[f'region_{country}'] = merged_data[f'country_{country}'].apply(\n",
            "<ipython-input-8-d9bcea4e968f>:54: PerformanceWarning: DataFrame is highly fragmented.  This is usually the result of calling `frame.insert` many times, which has poor performance.  Consider joining all columns at once using pd.concat(axis=1) instead. To get a de-fragmented frame, use `newframe = frame.copy()`\n",
            "  merged_data[f'region_{country}'] = merged_data[f'country_{country}'].apply(\n",
            "<ipython-input-8-d9bcea4e968f>:54: PerformanceWarning: DataFrame is highly fragmented.  This is usually the result of calling `frame.insert` many times, which has poor performance.  Consider joining all columns at once using pd.concat(axis=1) instead. To get a de-fragmented frame, use `newframe = frame.copy()`\n",
            "  merged_data[f'region_{country}'] = merged_data[f'country_{country}'].apply(\n",
            "<ipython-input-8-d9bcea4e968f>:54: PerformanceWarning: DataFrame is highly fragmented.  This is usually the result of calling `frame.insert` many times, which has poor performance.  Consider joining all columns at once using pd.concat(axis=1) instead. To get a de-fragmented frame, use `newframe = frame.copy()`\n",
            "  merged_data[f'region_{country}'] = merged_data[f'country_{country}'].apply(\n",
            "<ipython-input-8-d9bcea4e968f>:54: PerformanceWarning: DataFrame is highly fragmented.  This is usually the result of calling `frame.insert` many times, which has poor performance.  Consider joining all columns at once using pd.concat(axis=1) instead. To get a de-fragmented frame, use `newframe = frame.copy()`\n",
            "  merged_data[f'region_{country}'] = merged_data[f'country_{country}'].apply(\n",
            "<ipython-input-8-d9bcea4e968f>:54: PerformanceWarning: DataFrame is highly fragmented.  This is usually the result of calling `frame.insert` many times, which has poor performance.  Consider joining all columns at once using pd.concat(axis=1) instead. To get a de-fragmented frame, use `newframe = frame.copy()`\n",
            "  merged_data[f'region_{country}'] = merged_data[f'country_{country}'].apply(\n",
            "<ipython-input-8-d9bcea4e968f>:54: PerformanceWarning: DataFrame is highly fragmented.  This is usually the result of calling `frame.insert` many times, which has poor performance.  Consider joining all columns at once using pd.concat(axis=1) instead. To get a de-fragmented frame, use `newframe = frame.copy()`\n",
            "  merged_data[f'region_{country}'] = merged_data[f'country_{country}'].apply(\n",
            "<ipython-input-8-d9bcea4e968f>:54: PerformanceWarning: DataFrame is highly fragmented.  This is usually the result of calling `frame.insert` many times, which has poor performance.  Consider joining all columns at once using pd.concat(axis=1) instead. To get a de-fragmented frame, use `newframe = frame.copy()`\n",
            "  merged_data[f'region_{country}'] = merged_data[f'country_{country}'].apply(\n",
            "<ipython-input-8-d9bcea4e968f>:54: PerformanceWarning: DataFrame is highly fragmented.  This is usually the result of calling `frame.insert` many times, which has poor performance.  Consider joining all columns at once using pd.concat(axis=1) instead. To get a de-fragmented frame, use `newframe = frame.copy()`\n",
            "  merged_data[f'region_{country}'] = merged_data[f'country_{country}'].apply(\n",
            "<ipython-input-8-d9bcea4e968f>:54: PerformanceWarning: DataFrame is highly fragmented.  This is usually the result of calling `frame.insert` many times, which has poor performance.  Consider joining all columns at once using pd.concat(axis=1) instead. To get a de-fragmented frame, use `newframe = frame.copy()`\n",
            "  merged_data[f'region_{country}'] = merged_data[f'country_{country}'].apply(\n",
            "<ipython-input-8-d9bcea4e968f>:54: PerformanceWarning: DataFrame is highly fragmented.  This is usually the result of calling `frame.insert` many times, which has poor performance.  Consider joining all columns at once using pd.concat(axis=1) instead. To get a de-fragmented frame, use `newframe = frame.copy()`\n",
            "  merged_data[f'region_{country}'] = merged_data[f'country_{country}'].apply(\n",
            "<ipython-input-8-d9bcea4e968f>:54: PerformanceWarning: DataFrame is highly fragmented.  This is usually the result of calling `frame.insert` many times, which has poor performance.  Consider joining all columns at once using pd.concat(axis=1) instead. To get a de-fragmented frame, use `newframe = frame.copy()`\n",
            "  merged_data[f'region_{country}'] = merged_data[f'country_{country}'].apply(\n",
            "<ipython-input-8-d9bcea4e968f>:54: PerformanceWarning: DataFrame is highly fragmented.  This is usually the result of calling `frame.insert` many times, which has poor performance.  Consider joining all columns at once using pd.concat(axis=1) instead. To get a de-fragmented frame, use `newframe = frame.copy()`\n",
            "  merged_data[f'region_{country}'] = merged_data[f'country_{country}'].apply(\n",
            "<ipython-input-8-d9bcea4e968f>:54: PerformanceWarning: DataFrame is highly fragmented.  This is usually the result of calling `frame.insert` many times, which has poor performance.  Consider joining all columns at once using pd.concat(axis=1) instead. To get a de-fragmented frame, use `newframe = frame.copy()`\n",
            "  merged_data[f'region_{country}'] = merged_data[f'country_{country}'].apply(\n",
            "<ipython-input-8-d9bcea4e968f>:54: PerformanceWarning: DataFrame is highly fragmented.  This is usually the result of calling `frame.insert` many times, which has poor performance.  Consider joining all columns at once using pd.concat(axis=1) instead. To get a de-fragmented frame, use `newframe = frame.copy()`\n",
            "  merged_data[f'region_{country}'] = merged_data[f'country_{country}'].apply(\n",
            "<ipython-input-8-d9bcea4e968f>:54: PerformanceWarning: DataFrame is highly fragmented.  This is usually the result of calling `frame.insert` many times, which has poor performance.  Consider joining all columns at once using pd.concat(axis=1) instead. To get a de-fragmented frame, use `newframe = frame.copy()`\n",
            "  merged_data[f'region_{country}'] = merged_data[f'country_{country}'].apply(\n",
            "<ipython-input-8-d9bcea4e968f>:54: PerformanceWarning: DataFrame is highly fragmented.  This is usually the result of calling `frame.insert` many times, which has poor performance.  Consider joining all columns at once using pd.concat(axis=1) instead. To get a de-fragmented frame, use `newframe = frame.copy()`\n",
            "  merged_data[f'region_{country}'] = merged_data[f'country_{country}'].apply(\n",
            "<ipython-input-8-d9bcea4e968f>:54: PerformanceWarning: DataFrame is highly fragmented.  This is usually the result of calling `frame.insert` many times, which has poor performance.  Consider joining all columns at once using pd.concat(axis=1) instead. To get a de-fragmented frame, use `newframe = frame.copy()`\n",
            "  merged_data[f'region_{country}'] = merged_data[f'country_{country}'].apply(\n",
            "<ipython-input-8-d9bcea4e968f>:54: PerformanceWarning: DataFrame is highly fragmented.  This is usually the result of calling `frame.insert` many times, which has poor performance.  Consider joining all columns at once using pd.concat(axis=1) instead. To get a de-fragmented frame, use `newframe = frame.copy()`\n",
            "  merged_data[f'region_{country}'] = merged_data[f'country_{country}'].apply(\n",
            "<ipython-input-8-d9bcea4e968f>:54: PerformanceWarning: DataFrame is highly fragmented.  This is usually the result of calling `frame.insert` many times, which has poor performance.  Consider joining all columns at once using pd.concat(axis=1) instead. To get a de-fragmented frame, use `newframe = frame.copy()`\n",
            "  merged_data[f'region_{country}'] = merged_data[f'country_{country}'].apply(\n",
            "<ipython-input-8-d9bcea4e968f>:54: PerformanceWarning: DataFrame is highly fragmented.  This is usually the result of calling `frame.insert` many times, which has poor performance.  Consider joining all columns at once using pd.concat(axis=1) instead. To get a de-fragmented frame, use `newframe = frame.copy()`\n",
            "  merged_data[f'region_{country}'] = merged_data[f'country_{country}'].apply(\n",
            "<ipython-input-8-d9bcea4e968f>:54: PerformanceWarning: DataFrame is highly fragmented.  This is usually the result of calling `frame.insert` many times, which has poor performance.  Consider joining all columns at once using pd.concat(axis=1) instead. To get a de-fragmented frame, use `newframe = frame.copy()`\n",
            "  merged_data[f'region_{country}'] = merged_data[f'country_{country}'].apply(\n",
            "<ipython-input-8-d9bcea4e968f>:54: PerformanceWarning: DataFrame is highly fragmented.  This is usually the result of calling `frame.insert` many times, which has poor performance.  Consider joining all columns at once using pd.concat(axis=1) instead. To get a de-fragmented frame, use `newframe = frame.copy()`\n",
            "  merged_data[f'region_{country}'] = merged_data[f'country_{country}'].apply(\n",
            "<ipython-input-8-d9bcea4e968f>:54: PerformanceWarning: DataFrame is highly fragmented.  This is usually the result of calling `frame.insert` many times, which has poor performance.  Consider joining all columns at once using pd.concat(axis=1) instead. To get a de-fragmented frame, use `newframe = frame.copy()`\n",
            "  merged_data[f'region_{country}'] = merged_data[f'country_{country}'].apply(\n",
            "<ipython-input-8-d9bcea4e968f>:54: PerformanceWarning: DataFrame is highly fragmented.  This is usually the result of calling `frame.insert` many times, which has poor performance.  Consider joining all columns at once using pd.concat(axis=1) instead. To get a de-fragmented frame, use `newframe = frame.copy()`\n",
            "  merged_data[f'region_{country}'] = merged_data[f'country_{country}'].apply(\n",
            "<ipython-input-8-d9bcea4e968f>:54: PerformanceWarning: DataFrame is highly fragmented.  This is usually the result of calling `frame.insert` many times, which has poor performance.  Consider joining all columns at once using pd.concat(axis=1) instead. To get a de-fragmented frame, use `newframe = frame.copy()`\n",
            "  merged_data[f'region_{country}'] = merged_data[f'country_{country}'].apply(\n",
            "<ipython-input-8-d9bcea4e968f>:54: PerformanceWarning: DataFrame is highly fragmented.  This is usually the result of calling `frame.insert` many times, which has poor performance.  Consider joining all columns at once using pd.concat(axis=1) instead. To get a de-fragmented frame, use `newframe = frame.copy()`\n",
            "  merged_data[f'region_{country}'] = merged_data[f'country_{country}'].apply(\n",
            "<ipython-input-8-d9bcea4e968f>:54: PerformanceWarning: DataFrame is highly fragmented.  This is usually the result of calling `frame.insert` many times, which has poor performance.  Consider joining all columns at once using pd.concat(axis=1) instead. To get a de-fragmented frame, use `newframe = frame.copy()`\n",
            "  merged_data[f'region_{country}'] = merged_data[f'country_{country}'].apply(\n",
            "<ipython-input-8-d9bcea4e968f>:54: PerformanceWarning: DataFrame is highly fragmented.  This is usually the result of calling `frame.insert` many times, which has poor performance.  Consider joining all columns at once using pd.concat(axis=1) instead. To get a de-fragmented frame, use `newframe = frame.copy()`\n",
            "  merged_data[f'region_{country}'] = merged_data[f'country_{country}'].apply(\n",
            "<ipython-input-8-d9bcea4e968f>:54: PerformanceWarning: DataFrame is highly fragmented.  This is usually the result of calling `frame.insert` many times, which has poor performance.  Consider joining all columns at once using pd.concat(axis=1) instead. To get a de-fragmented frame, use `newframe = frame.copy()`\n",
            "  merged_data[f'region_{country}'] = merged_data[f'country_{country}'].apply(\n",
            "<ipython-input-8-d9bcea4e968f>:54: PerformanceWarning: DataFrame is highly fragmented.  This is usually the result of calling `frame.insert` many times, which has poor performance.  Consider joining all columns at once using pd.concat(axis=1) instead. To get a de-fragmented frame, use `newframe = frame.copy()`\n",
            "  merged_data[f'region_{country}'] = merged_data[f'country_{country}'].apply(\n",
            "<ipython-input-8-d9bcea4e968f>:54: PerformanceWarning: DataFrame is highly fragmented.  This is usually the result of calling `frame.insert` many times, which has poor performance.  Consider joining all columns at once using pd.concat(axis=1) instead. To get a de-fragmented frame, use `newframe = frame.copy()`\n",
            "  merged_data[f'region_{country}'] = merged_data[f'country_{country}'].apply(\n",
            "<ipython-input-8-d9bcea4e968f>:54: PerformanceWarning: DataFrame is highly fragmented.  This is usually the result of calling `frame.insert` many times, which has poor performance.  Consider joining all columns at once using pd.concat(axis=1) instead. To get a de-fragmented frame, use `newframe = frame.copy()`\n",
            "  merged_data[f'region_{country}'] = merged_data[f'country_{country}'].apply(\n",
            "<ipython-input-8-d9bcea4e968f>:54: PerformanceWarning: DataFrame is highly fragmented.  This is usually the result of calling `frame.insert` many times, which has poor performance.  Consider joining all columns at once using pd.concat(axis=1) instead. To get a de-fragmented frame, use `newframe = frame.copy()`\n",
            "  merged_data[f'region_{country}'] = merged_data[f'country_{country}'].apply(\n",
            "<ipython-input-8-d9bcea4e968f>:54: PerformanceWarning: DataFrame is highly fragmented.  This is usually the result of calling `frame.insert` many times, which has poor performance.  Consider joining all columns at once using pd.concat(axis=1) instead. To get a de-fragmented frame, use `newframe = frame.copy()`\n",
            "  merged_data[f'region_{country}'] = merged_data[f'country_{country}'].apply(\n",
            "<ipython-input-8-d9bcea4e968f>:54: PerformanceWarning: DataFrame is highly fragmented.  This is usually the result of calling `frame.insert` many times, which has poor performance.  Consider joining all columns at once using pd.concat(axis=1) instead. To get a de-fragmented frame, use `newframe = frame.copy()`\n",
            "  merged_data[f'region_{country}'] = merged_data[f'country_{country}'].apply(\n",
            "<ipython-input-8-d9bcea4e968f>:54: PerformanceWarning: DataFrame is highly fragmented.  This is usually the result of calling `frame.insert` many times, which has poor performance.  Consider joining all columns at once using pd.concat(axis=1) instead. To get a de-fragmented frame, use `newframe = frame.copy()`\n",
            "  merged_data[f'region_{country}'] = merged_data[f'country_{country}'].apply(\n",
            "<ipython-input-8-d9bcea4e968f>:54: PerformanceWarning: DataFrame is highly fragmented.  This is usually the result of calling `frame.insert` many times, which has poor performance.  Consider joining all columns at once using pd.concat(axis=1) instead. To get a de-fragmented frame, use `newframe = frame.copy()`\n",
            "  merged_data[f'region_{country}'] = merged_data[f'country_{country}'].apply(\n",
            "<ipython-input-8-d9bcea4e968f>:54: PerformanceWarning: DataFrame is highly fragmented.  This is usually the result of calling `frame.insert` many times, which has poor performance.  Consider joining all columns at once using pd.concat(axis=1) instead. To get a de-fragmented frame, use `newframe = frame.copy()`\n",
            "  merged_data[f'region_{country}'] = merged_data[f'country_{country}'].apply(\n",
            "<ipython-input-8-d9bcea4e968f>:54: PerformanceWarning: DataFrame is highly fragmented.  This is usually the result of calling `frame.insert` many times, which has poor performance.  Consider joining all columns at once using pd.concat(axis=1) instead. To get a de-fragmented frame, use `newframe = frame.copy()`\n",
            "  merged_data[f'region_{country}'] = merged_data[f'country_{country}'].apply(\n",
            "<ipython-input-8-d9bcea4e968f>:54: PerformanceWarning: DataFrame is highly fragmented.  This is usually the result of calling `frame.insert` many times, which has poor performance.  Consider joining all columns at once using pd.concat(axis=1) instead. To get a de-fragmented frame, use `newframe = frame.copy()`\n",
            "  merged_data[f'region_{country}'] = merged_data[f'country_{country}'].apply(\n",
            "<ipython-input-8-d9bcea4e968f>:54: PerformanceWarning: DataFrame is highly fragmented.  This is usually the result of calling `frame.insert` many times, which has poor performance.  Consider joining all columns at once using pd.concat(axis=1) instead. To get a de-fragmented frame, use `newframe = frame.copy()`\n",
            "  merged_data[f'region_{country}'] = merged_data[f'country_{country}'].apply(\n",
            "<ipython-input-8-d9bcea4e968f>:54: PerformanceWarning: DataFrame is highly fragmented.  This is usually the result of calling `frame.insert` many times, which has poor performance.  Consider joining all columns at once using pd.concat(axis=1) instead. To get a de-fragmented frame, use `newframe = frame.copy()`\n",
            "  merged_data[f'region_{country}'] = merged_data[f'country_{country}'].apply(\n",
            "<ipython-input-8-d9bcea4e968f>:54: PerformanceWarning: DataFrame is highly fragmented.  This is usually the result of calling `frame.insert` many times, which has poor performance.  Consider joining all columns at once using pd.concat(axis=1) instead. To get a de-fragmented frame, use `newframe = frame.copy()`\n",
            "  merged_data[f'region_{country}'] = merged_data[f'country_{country}'].apply(\n",
            "<ipython-input-8-d9bcea4e968f>:54: PerformanceWarning: DataFrame is highly fragmented.  This is usually the result of calling `frame.insert` many times, which has poor performance.  Consider joining all columns at once using pd.concat(axis=1) instead. To get a de-fragmented frame, use `newframe = frame.copy()`\n",
            "  merged_data[f'region_{country}'] = merged_data[f'country_{country}'].apply(\n",
            "<ipython-input-8-d9bcea4e968f>:54: PerformanceWarning: DataFrame is highly fragmented.  This is usually the result of calling `frame.insert` many times, which has poor performance.  Consider joining all columns at once using pd.concat(axis=1) instead. To get a de-fragmented frame, use `newframe = frame.copy()`\n",
            "  merged_data[f'region_{country}'] = merged_data[f'country_{country}'].apply(\n",
            "<ipython-input-8-d9bcea4e968f>:54: PerformanceWarning: DataFrame is highly fragmented.  This is usually the result of calling `frame.insert` many times, which has poor performance.  Consider joining all columns at once using pd.concat(axis=1) instead. To get a de-fragmented frame, use `newframe = frame.copy()`\n",
            "  merged_data[f'region_{country}'] = merged_data[f'country_{country}'].apply(\n",
            "<ipython-input-8-d9bcea4e968f>:54: PerformanceWarning: DataFrame is highly fragmented.  This is usually the result of calling `frame.insert` many times, which has poor performance.  Consider joining all columns at once using pd.concat(axis=1) instead. To get a de-fragmented frame, use `newframe = frame.copy()`\n",
            "  merged_data[f'region_{country}'] = merged_data[f'country_{country}'].apply(\n",
            "<ipython-input-8-d9bcea4e968f>:54: PerformanceWarning: DataFrame is highly fragmented.  This is usually the result of calling `frame.insert` many times, which has poor performance.  Consider joining all columns at once using pd.concat(axis=1) instead. To get a de-fragmented frame, use `newframe = frame.copy()`\n",
            "  merged_data[f'region_{country}'] = merged_data[f'country_{country}'].apply(\n",
            "<ipython-input-8-d9bcea4e968f>:54: PerformanceWarning: DataFrame is highly fragmented.  This is usually the result of calling `frame.insert` many times, which has poor performance.  Consider joining all columns at once using pd.concat(axis=1) instead. To get a de-fragmented frame, use `newframe = frame.copy()`\n",
            "  merged_data[f'region_{country}'] = merged_data[f'country_{country}'].apply(\n",
            "<ipython-input-8-d9bcea4e968f>:54: PerformanceWarning: DataFrame is highly fragmented.  This is usually the result of calling `frame.insert` many times, which has poor performance.  Consider joining all columns at once using pd.concat(axis=1) instead. To get a de-fragmented frame, use `newframe = frame.copy()`\n",
            "  merged_data[f'region_{country}'] = merged_data[f'country_{country}'].apply(\n",
            "<ipython-input-8-d9bcea4e968f>:54: PerformanceWarning: DataFrame is highly fragmented.  This is usually the result of calling `frame.insert` many times, which has poor performance.  Consider joining all columns at once using pd.concat(axis=1) instead. To get a de-fragmented frame, use `newframe = frame.copy()`\n",
            "  merged_data[f'region_{country}'] = merged_data[f'country_{country}'].apply(\n",
            "<ipython-input-8-d9bcea4e968f>:54: PerformanceWarning: DataFrame is highly fragmented.  This is usually the result of calling `frame.insert` many times, which has poor performance.  Consider joining all columns at once using pd.concat(axis=1) instead. To get a de-fragmented frame, use `newframe = frame.copy()`\n",
            "  merged_data[f'region_{country}'] = merged_data[f'country_{country}'].apply(\n",
            "<ipython-input-8-d9bcea4e968f>:54: PerformanceWarning: DataFrame is highly fragmented.  This is usually the result of calling `frame.insert` many times, which has poor performance.  Consider joining all columns at once using pd.concat(axis=1) instead. To get a de-fragmented frame, use `newframe = frame.copy()`\n",
            "  merged_data[f'region_{country}'] = merged_data[f'country_{country}'].apply(\n",
            "<ipython-input-8-d9bcea4e968f>:54: PerformanceWarning: DataFrame is highly fragmented.  This is usually the result of calling `frame.insert` many times, which has poor performance.  Consider joining all columns at once using pd.concat(axis=1) instead. To get a de-fragmented frame, use `newframe = frame.copy()`\n",
            "  merged_data[f'region_{country}'] = merged_data[f'country_{country}'].apply(\n",
            "<ipython-input-8-d9bcea4e968f>:54: PerformanceWarning: DataFrame is highly fragmented.  This is usually the result of calling `frame.insert` many times, which has poor performance.  Consider joining all columns at once using pd.concat(axis=1) instead. To get a de-fragmented frame, use `newframe = frame.copy()`\n",
            "  merged_data[f'region_{country}'] = merged_data[f'country_{country}'].apply(\n",
            "<ipython-input-8-d9bcea4e968f>:54: PerformanceWarning: DataFrame is highly fragmented.  This is usually the result of calling `frame.insert` many times, which has poor performance.  Consider joining all columns at once using pd.concat(axis=1) instead. To get a de-fragmented frame, use `newframe = frame.copy()`\n",
            "  merged_data[f'region_{country}'] = merged_data[f'country_{country}'].apply(\n",
            "<ipython-input-8-d9bcea4e968f>:54: PerformanceWarning: DataFrame is highly fragmented.  This is usually the result of calling `frame.insert` many times, which has poor performance.  Consider joining all columns at once using pd.concat(axis=1) instead. To get a de-fragmented frame, use `newframe = frame.copy()`\n",
            "  merged_data[f'region_{country}'] = merged_data[f'country_{country}'].apply(\n",
            "<ipython-input-8-d9bcea4e968f>:54: PerformanceWarning: DataFrame is highly fragmented.  This is usually the result of calling `frame.insert` many times, which has poor performance.  Consider joining all columns at once using pd.concat(axis=1) instead. To get a de-fragmented frame, use `newframe = frame.copy()`\n",
            "  merged_data[f'region_{country}'] = merged_data[f'country_{country}'].apply(\n",
            "<ipython-input-8-d9bcea4e968f>:54: PerformanceWarning: DataFrame is highly fragmented.  This is usually the result of calling `frame.insert` many times, which has poor performance.  Consider joining all columns at once using pd.concat(axis=1) instead. To get a de-fragmented frame, use `newframe = frame.copy()`\n",
            "  merged_data[f'region_{country}'] = merged_data[f'country_{country}'].apply(\n",
            "<ipython-input-8-d9bcea4e968f>:54: PerformanceWarning: DataFrame is highly fragmented.  This is usually the result of calling `frame.insert` many times, which has poor performance.  Consider joining all columns at once using pd.concat(axis=1) instead. To get a de-fragmented frame, use `newframe = frame.copy()`\n",
            "  merged_data[f'region_{country}'] = merged_data[f'country_{country}'].apply(\n",
            "<ipython-input-8-d9bcea4e968f>:54: PerformanceWarning: DataFrame is highly fragmented.  This is usually the result of calling `frame.insert` many times, which has poor performance.  Consider joining all columns at once using pd.concat(axis=1) instead. To get a de-fragmented frame, use `newframe = frame.copy()`\n",
            "  merged_data[f'region_{country}'] = merged_data[f'country_{country}'].apply(\n",
            "<ipython-input-8-d9bcea4e968f>:54: PerformanceWarning: DataFrame is highly fragmented.  This is usually the result of calling `frame.insert` many times, which has poor performance.  Consider joining all columns at once using pd.concat(axis=1) instead. To get a de-fragmented frame, use `newframe = frame.copy()`\n",
            "  merged_data[f'region_{country}'] = merged_data[f'country_{country}'].apply(\n",
            "<ipython-input-8-d9bcea4e968f>:54: PerformanceWarning: DataFrame is highly fragmented.  This is usually the result of calling `frame.insert` many times, which has poor performance.  Consider joining all columns at once using pd.concat(axis=1) instead. To get a de-fragmented frame, use `newframe = frame.copy()`\n",
            "  merged_data[f'region_{country}'] = merged_data[f'country_{country}'].apply(\n",
            "<ipython-input-8-d9bcea4e968f>:54: PerformanceWarning: DataFrame is highly fragmented.  This is usually the result of calling `frame.insert` many times, which has poor performance.  Consider joining all columns at once using pd.concat(axis=1) instead. To get a de-fragmented frame, use `newframe = frame.copy()`\n",
            "  merged_data[f'region_{country}'] = merged_data[f'country_{country}'].apply(\n",
            "<ipython-input-8-d9bcea4e968f>:54: PerformanceWarning: DataFrame is highly fragmented.  This is usually the result of calling `frame.insert` many times, which has poor performance.  Consider joining all columns at once using pd.concat(axis=1) instead. To get a de-fragmented frame, use `newframe = frame.copy()`\n",
            "  merged_data[f'region_{country}'] = merged_data[f'country_{country}'].apply(\n",
            "<ipython-input-8-d9bcea4e968f>:54: PerformanceWarning: DataFrame is highly fragmented.  This is usually the result of calling `frame.insert` many times, which has poor performance.  Consider joining all columns at once using pd.concat(axis=1) instead. To get a de-fragmented frame, use `newframe = frame.copy()`\n",
            "  merged_data[f'region_{country}'] = merged_data[f'country_{country}'].apply(\n",
            "<ipython-input-8-d9bcea4e968f>:54: PerformanceWarning: DataFrame is highly fragmented.  This is usually the result of calling `frame.insert` many times, which has poor performance.  Consider joining all columns at once using pd.concat(axis=1) instead. To get a de-fragmented frame, use `newframe = frame.copy()`\n",
            "  merged_data[f'region_{country}'] = merged_data[f'country_{country}'].apply(\n",
            "<ipython-input-8-d9bcea4e968f>:54: PerformanceWarning: DataFrame is highly fragmented.  This is usually the result of calling `frame.insert` many times, which has poor performance.  Consider joining all columns at once using pd.concat(axis=1) instead. To get a de-fragmented frame, use `newframe = frame.copy()`\n",
            "  merged_data[f'region_{country}'] = merged_data[f'country_{country}'].apply(\n",
            "<ipython-input-8-d9bcea4e968f>:54: PerformanceWarning: DataFrame is highly fragmented.  This is usually the result of calling `frame.insert` many times, which has poor performance.  Consider joining all columns at once using pd.concat(axis=1) instead. To get a de-fragmented frame, use `newframe = frame.copy()`\n",
            "  merged_data[f'region_{country}'] = merged_data[f'country_{country}'].apply(\n",
            "<ipython-input-8-d9bcea4e968f>:54: PerformanceWarning: DataFrame is highly fragmented.  This is usually the result of calling `frame.insert` many times, which has poor performance.  Consider joining all columns at once using pd.concat(axis=1) instead. To get a de-fragmented frame, use `newframe = frame.copy()`\n",
            "  merged_data[f'region_{country}'] = merged_data[f'country_{country}'].apply(\n",
            "<ipython-input-8-d9bcea4e968f>:54: PerformanceWarning: DataFrame is highly fragmented.  This is usually the result of calling `frame.insert` many times, which has poor performance.  Consider joining all columns at once using pd.concat(axis=1) instead. To get a de-fragmented frame, use `newframe = frame.copy()`\n",
            "  merged_data[f'region_{country}'] = merged_data[f'country_{country}'].apply(\n",
            "<ipython-input-8-d9bcea4e968f>:54: PerformanceWarning: DataFrame is highly fragmented.  This is usually the result of calling `frame.insert` many times, which has poor performance.  Consider joining all columns at once using pd.concat(axis=1) instead. To get a de-fragmented frame, use `newframe = frame.copy()`\n",
            "  merged_data[f'region_{country}'] = merged_data[f'country_{country}'].apply(\n",
            "<ipython-input-8-d9bcea4e968f>:54: PerformanceWarning: DataFrame is highly fragmented.  This is usually the result of calling `frame.insert` many times, which has poor performance.  Consider joining all columns at once using pd.concat(axis=1) instead. To get a de-fragmented frame, use `newframe = frame.copy()`\n",
            "  merged_data[f'region_{country}'] = merged_data[f'country_{country}'].apply(\n",
            "<ipython-input-8-d9bcea4e968f>:54: PerformanceWarning: DataFrame is highly fragmented.  This is usually the result of calling `frame.insert` many times, which has poor performance.  Consider joining all columns at once using pd.concat(axis=1) instead. To get a de-fragmented frame, use `newframe = frame.copy()`\n",
            "  merged_data[f'region_{country}'] = merged_data[f'country_{country}'].apply(\n",
            "<ipython-input-8-d9bcea4e968f>:54: PerformanceWarning: DataFrame is highly fragmented.  This is usually the result of calling `frame.insert` many times, which has poor performance.  Consider joining all columns at once using pd.concat(axis=1) instead. To get a de-fragmented frame, use `newframe = frame.copy()`\n",
            "  merged_data[f'region_{country}'] = merged_data[f'country_{country}'].apply(\n",
            "<ipython-input-8-d9bcea4e968f>:54: PerformanceWarning: DataFrame is highly fragmented.  This is usually the result of calling `frame.insert` many times, which has poor performance.  Consider joining all columns at once using pd.concat(axis=1) instead. To get a de-fragmented frame, use `newframe = frame.copy()`\n",
            "  merged_data[f'region_{country}'] = merged_data[f'country_{country}'].apply(\n",
            "<ipython-input-8-d9bcea4e968f>:54: PerformanceWarning: DataFrame is highly fragmented.  This is usually the result of calling `frame.insert` many times, which has poor performance.  Consider joining all columns at once using pd.concat(axis=1) instead. To get a de-fragmented frame, use `newframe = frame.copy()`\n",
            "  merged_data[f'region_{country}'] = merged_data[f'country_{country}'].apply(\n",
            "<ipython-input-8-d9bcea4e968f>:54: PerformanceWarning: DataFrame is highly fragmented.  This is usually the result of calling `frame.insert` many times, which has poor performance.  Consider joining all columns at once using pd.concat(axis=1) instead. To get a de-fragmented frame, use `newframe = frame.copy()`\n",
            "  merged_data[f'region_{country}'] = merged_data[f'country_{country}'].apply(\n",
            "<ipython-input-8-d9bcea4e968f>:54: PerformanceWarning: DataFrame is highly fragmented.  This is usually the result of calling `frame.insert` many times, which has poor performance.  Consider joining all columns at once using pd.concat(axis=1) instead. To get a de-fragmented frame, use `newframe = frame.copy()`\n",
            "  merged_data[f'region_{country}'] = merged_data[f'country_{country}'].apply(\n",
            "<ipython-input-8-d9bcea4e968f>:54: PerformanceWarning: DataFrame is highly fragmented.  This is usually the result of calling `frame.insert` many times, which has poor performance.  Consider joining all columns at once using pd.concat(axis=1) instead. To get a de-fragmented frame, use `newframe = frame.copy()`\n",
            "  merged_data[f'region_{country}'] = merged_data[f'country_{country}'].apply(\n",
            "<ipython-input-8-d9bcea4e968f>:54: PerformanceWarning: DataFrame is highly fragmented.  This is usually the result of calling `frame.insert` many times, which has poor performance.  Consider joining all columns at once using pd.concat(axis=1) instead. To get a de-fragmented frame, use `newframe = frame.copy()`\n",
            "  merged_data[f'region_{country}'] = merged_data[f'country_{country}'].apply(\n",
            "<ipython-input-8-d9bcea4e968f>:54: PerformanceWarning: DataFrame is highly fragmented.  This is usually the result of calling `frame.insert` many times, which has poor performance.  Consider joining all columns at once using pd.concat(axis=1) instead. To get a de-fragmented frame, use `newframe = frame.copy()`\n",
            "  merged_data[f'region_{country}'] = merged_data[f'country_{country}'].apply(\n",
            "<ipython-input-8-d9bcea4e968f>:54: PerformanceWarning: DataFrame is highly fragmented.  This is usually the result of calling `frame.insert` many times, which has poor performance.  Consider joining all columns at once using pd.concat(axis=1) instead. To get a de-fragmented frame, use `newframe = frame.copy()`\n",
            "  merged_data[f'region_{country}'] = merged_data[f'country_{country}'].apply(\n",
            "<ipython-input-8-d9bcea4e968f>:54: PerformanceWarning: DataFrame is highly fragmented.  This is usually the result of calling `frame.insert` many times, which has poor performance.  Consider joining all columns at once using pd.concat(axis=1) instead. To get a de-fragmented frame, use `newframe = frame.copy()`\n",
            "  merged_data[f'region_{country}'] = merged_data[f'country_{country}'].apply(\n",
            "<ipython-input-8-d9bcea4e968f>:54: PerformanceWarning: DataFrame is highly fragmented.  This is usually the result of calling `frame.insert` many times, which has poor performance.  Consider joining all columns at once using pd.concat(axis=1) instead. To get a de-fragmented frame, use `newframe = frame.copy()`\n",
            "  merged_data[f'region_{country}'] = merged_data[f'country_{country}'].apply(\n",
            "<ipython-input-8-d9bcea4e968f>:54: PerformanceWarning: DataFrame is highly fragmented.  This is usually the result of calling `frame.insert` many times, which has poor performance.  Consider joining all columns at once using pd.concat(axis=1) instead. To get a de-fragmented frame, use `newframe = frame.copy()`\n",
            "  merged_data[f'region_{country}'] = merged_data[f'country_{country}'].apply(\n",
            "<ipython-input-8-d9bcea4e968f>:54: PerformanceWarning: DataFrame is highly fragmented.  This is usually the result of calling `frame.insert` many times, which has poor performance.  Consider joining all columns at once using pd.concat(axis=1) instead. To get a de-fragmented frame, use `newframe = frame.copy()`\n",
            "  merged_data[f'region_{country}'] = merged_data[f'country_{country}'].apply(\n",
            "<ipython-input-8-d9bcea4e968f>:54: PerformanceWarning: DataFrame is highly fragmented.  This is usually the result of calling `frame.insert` many times, which has poor performance.  Consider joining all columns at once using pd.concat(axis=1) instead. To get a de-fragmented frame, use `newframe = frame.copy()`\n",
            "  merged_data[f'region_{country}'] = merged_data[f'country_{country}'].apply(\n",
            "<ipython-input-8-d9bcea4e968f>:54: PerformanceWarning: DataFrame is highly fragmented.  This is usually the result of calling `frame.insert` many times, which has poor performance.  Consider joining all columns at once using pd.concat(axis=1) instead. To get a de-fragmented frame, use `newframe = frame.copy()`\n",
            "  merged_data[f'region_{country}'] = merged_data[f'country_{country}'].apply(\n",
            "<ipython-input-8-d9bcea4e968f>:54: PerformanceWarning: DataFrame is highly fragmented.  This is usually the result of calling `frame.insert` many times, which has poor performance.  Consider joining all columns at once using pd.concat(axis=1) instead. To get a de-fragmented frame, use `newframe = frame.copy()`\n",
            "  merged_data[f'region_{country}'] = merged_data[f'country_{country}'].apply(\n",
            "<ipython-input-8-d9bcea4e968f>:54: PerformanceWarning: DataFrame is highly fragmented.  This is usually the result of calling `frame.insert` many times, which has poor performance.  Consider joining all columns at once using pd.concat(axis=1) instead. To get a de-fragmented frame, use `newframe = frame.copy()`\n",
            "  merged_data[f'region_{country}'] = merged_data[f'country_{country}'].apply(\n",
            "<ipython-input-8-d9bcea4e968f>:54: PerformanceWarning: DataFrame is highly fragmented.  This is usually the result of calling `frame.insert` many times, which has poor performance.  Consider joining all columns at once using pd.concat(axis=1) instead. To get a de-fragmented frame, use `newframe = frame.copy()`\n",
            "  merged_data[f'region_{country}'] = merged_data[f'country_{country}'].apply(\n",
            "<ipython-input-8-d9bcea4e968f>:54: PerformanceWarning: DataFrame is highly fragmented.  This is usually the result of calling `frame.insert` many times, which has poor performance.  Consider joining all columns at once using pd.concat(axis=1) instead. To get a de-fragmented frame, use `newframe = frame.copy()`\n",
            "  merged_data[f'region_{country}'] = merged_data[f'country_{country}'].apply(\n",
            "<ipython-input-8-d9bcea4e968f>:54: PerformanceWarning: DataFrame is highly fragmented.  This is usually the result of calling `frame.insert` many times, which has poor performance.  Consider joining all columns at once using pd.concat(axis=1) instead. To get a de-fragmented frame, use `newframe = frame.copy()`\n",
            "  merged_data[f'region_{country}'] = merged_data[f'country_{country}'].apply(\n",
            "<ipython-input-8-d9bcea4e968f>:54: PerformanceWarning: DataFrame is highly fragmented.  This is usually the result of calling `frame.insert` many times, which has poor performance.  Consider joining all columns at once using pd.concat(axis=1) instead. To get a de-fragmented frame, use `newframe = frame.copy()`\n",
            "  merged_data[f'region_{country}'] = merged_data[f'country_{country}'].apply(\n",
            "<ipython-input-8-d9bcea4e968f>:54: PerformanceWarning: DataFrame is highly fragmented.  This is usually the result of calling `frame.insert` many times, which has poor performance.  Consider joining all columns at once using pd.concat(axis=1) instead. To get a de-fragmented frame, use `newframe = frame.copy()`\n",
            "  merged_data[f'region_{country}'] = merged_data[f'country_{country}'].apply(\n",
            "<ipython-input-8-d9bcea4e968f>:54: PerformanceWarning: DataFrame is highly fragmented.  This is usually the result of calling `frame.insert` many times, which has poor performance.  Consider joining all columns at once using pd.concat(axis=1) instead. To get a de-fragmented frame, use `newframe = frame.copy()`\n",
            "  merged_data[f'region_{country}'] = merged_data[f'country_{country}'].apply(\n"
          ]
        }
      ],
      "source": [
        "# Complete country to continent mapping\n",
        "country_to_continent = {\n",
        "    'Afghanistan': 'Asia', 'Albania': 'Europe', 'Algeria': 'Africa', 'American Samoa': 'Oceania', 'Andorra': 'Europe',\n",
        "    'Antigua and Barbuda': 'North America', 'Argentina': 'South America', 'Armenia': 'Asia', 'Australia': 'Oceania',\n",
        "    'Austria': 'Europe', 'Azerbaijan': 'Asia', 'Bahamas': 'North America', 'Bahrain': 'Asia', 'Bangladesh': 'Asia',\n",
        "    'Barbados': 'North America', 'Belarus': 'Europe', 'Belgium': 'Europe', 'Benin': 'Africa', 'Bhutan': 'Asia',\n",
        "    'Bolivia': 'South America', 'Bosnia and Herzegovina': 'Europe', 'Botswana': 'Africa', 'Brazil': 'South America',\n",
        "    'Brunei Darussalam': 'Asia', 'Bulgaria': 'Europe', 'Burkina Faso': 'Africa', 'Burundi': 'Africa', 'Cambodia': 'Asia',\n",
        "    'Cameroon': 'Africa', 'Canada': 'North America', 'Cayman Islands': 'North America', 'Central African Republic': 'Africa',\n",
        "    'Chad': 'Africa', 'Chile': 'South America', 'China': 'Asia', 'Colombia': 'South America', 'Comoros': 'Africa',\n",
        "    'Congo': 'Africa', 'Congo, The Democratic Republic of the': 'Africa', 'Costa Rica': 'North America', 'Croatia': 'Europe',\n",
        "    'Cuba': 'North America', 'Cyprus': 'Europe', 'Czech Republic': 'Europe', 'Czechia': 'Europe', \"Côte D'Ivoire\": 'Africa',\n",
        "    'Denmark': 'Europe', 'Dominican Republic': 'North America', 'Ecuador': 'South America', 'Egypt': 'Africa',\n",
        "    'El Salvador': 'North America', 'Equatorial Guinea': 'Africa', 'Eritrea': 'Africa', 'Estonia': 'Europe', 'Ethiopia': 'Africa',\n",
        "    'Faroe Islands': 'Europe', 'Federated States of Micronesia': 'Oceania', 'Fiji': 'Oceania', 'Finland': 'Europe',\n",
        "    'Former Serbia and Montenegro': 'Europe', 'Former Yugoslavia': 'Europe', 'France': 'Europe', 'French Guiana': 'South America',\n",
        "    'French Polynesia': 'Oceania', 'Gabon': 'Africa', 'Gambia': 'Africa', 'Georgia': 'Asia', 'Germany': 'Europe', 'Ghana': 'Africa',\n",
        "    'Greece': 'Europe', 'Greenland': 'North America', 'Grenada': 'North America', 'Guadeloupe': 'North America', 'Guam': 'Oceania',\n",
        "    'Guatemala': 'North America', 'Guinea': 'Africa', 'Guinea-Bissau': 'Africa', 'Haiti': 'North America',\n",
        "    'Holy See (Vatican City State)': 'Europe', 'Honduras': 'North America', 'Hong Kong': 'Asia', 'Hungary': 'Europe', 'Iceland': 'Europe',\n",
        "    'India': 'Asia', 'Indonesia': 'Asia', 'Iran, Islamic Republic of': 'Asia', 'Iraq': 'Asia', 'Ireland': 'Europe', 'Israel': 'Asia',\n",
        "    'Italy': 'Europe', 'Jamaica': 'North America', 'Japan': 'Asia', 'Jersey': 'Europe', 'Jordan': 'Asia', 'Kazakhstan': 'Asia',\n",
        "    'Kenya': 'Africa', 'Korea, Republic of': 'Asia', 'Kosovo': 'Europe', 'Kuwait': 'Asia', 'Kyrgyzstan': 'Asia',\n",
        "    \"Lao People's Democratic Republic\": 'Asia', 'Latvia': 'Europe', 'Lebanon': 'Asia', 'Lesotho': 'Africa', 'Liberia': 'Africa',\n",
        "    'Libyan Arab Jamahiriya': 'Africa', 'Lithuania': 'Europe', 'Luxembourg': 'Europe', 'Macau': 'Asia',\n",
        "    'Macedonia, The Former Yugoslav Republic of': 'Europe', 'Madagascar': 'Africa', 'Malawi': 'Africa', 'Malaysia': 'Asia',\n",
        "    'Mali': 'Africa', 'Malta': 'Europe', 'Martinique': 'North America', 'Mauritius': 'Africa', 'Mexico': 'North America',\n",
        "    'Moldova, Republic of': 'Europe', 'Monaco': 'Europe', 'Mongolia': 'Asia', 'Montenegro': 'Europe', 'Morocco': 'Africa',\n",
        "    'Mozambique': 'Africa', 'Myanmar': 'Asia', 'Namibia': 'Africa', 'Nepal': 'Asia', 'Netherlands': 'Europe',\n",
        "    'New Caledonia': 'Oceania', 'New Zealand': 'Oceania', 'Nicaragua': 'North America', 'Niger': 'Africa', 'Nigeria': 'Africa',\n",
        "    'North Macedonia': 'Europe', 'Northern Mariana Islands': 'Oceania', 'Norway': 'Europe', 'Oman': 'Asia', 'Pakistan': 'Asia',\n",
        "    'Palestinian Territories, Occupied': 'Asia', 'Palestinian Territory, occupied': 'Asia', 'Panama': 'North America',\n",
        "    'Papua New Guinea': 'Oceania', 'Paraguay': 'South America', 'Peru': 'South America', 'Philippines': 'Asia', 'Poland': 'Europe',\n",
        "    'Portugal': 'Europe', 'Puerto Rico': 'North America', 'Qatar': 'Asia', 'Romania': 'Europe', 'Russian Federation': 'Europe',\n",
        "    'Rwanda': 'Africa', 'Réunion': 'Africa', 'Saint Kitts and Nevis': 'North America', 'Samoa': 'Oceania', 'San Marino': 'Europe',\n",
        "    'Saudi Arabia': 'Asia', 'Senegal': 'Africa', 'Serbia': 'Europe', 'Sierra Leone': 'Africa', 'Singapore': 'Asia', 'Slovakia': 'Europe',\n",
        "    'Slovenia': 'Europe', 'Solomon Islands': 'Oceania', 'Somalia': 'Africa', 'South Africa': 'Africa', 'South Sudan': 'Africa',\n",
        "    'Spain': 'Europe', 'Sri Lanka': 'Asia', 'Sudan': 'Africa', 'Suriname': 'South America', 'Swaziland': 'Africa', 'Sweden': 'Europe',\n",
        "    'Switzerland': 'Europe', 'Syrian Arab Republic': 'Asia', 'Taiwan': 'Asia', 'Tanzania': 'Africa', 'Thailand': 'Asia',\n",
        "    'Trinidad and Tobago': 'North America', 'Tunisia': 'Africa', 'Turkey': 'Asia', 'UNKNOWN': 'Unknown', 'Uganda': 'Africa',\n",
        "    'Ukraine': 'Europe', 'United Arab Emirates': 'Asia', 'United Kingdom': 'Europe', 'United States': 'North America',\n",
        "    'United States Minor Outlying Islands': 'North America', 'Uruguay': 'South America', 'Uzbekistan': 'Asia', 'Vanuatu': 'Oceania',\n",
        "    'Venezuela': 'South America', 'Vietnam': 'Asia', 'Yemen': 'Asia', 'Zambia': 'Africa', 'Zimbabwe': 'Africa'\n",
        "}\n",
        "\n",
        "\n",
        "# Map the country columns to their respective regions\n",
        "def get_region_from_country(country_name):\n",
        "    return country_to_continent.get(country_name, 'UNKNOWN')\n",
        "\n",
        "# Create a new 'region' column for each country column\n",
        "for country in countries:\n",
        "    if country != 'UNKNOWN':  # We don't want to include the 'UNKNOWN' country column\n",
        "        merged_data[f'region_{country}'] = merged_data[f'country_{country}'].apply(\n",
        "            lambda x: get_region_from_country(country) if x == 1 else 'UNKNOWN'\n",
        "        )\n",
        "\n"
      ]
    },
    {
      "cell_type": "code",
      "execution_count": 9,
      "metadata": {
        "id": "Cg9dTW64DhGr"
      },
      "outputs": [],
      "source": [
        "# Drop columns that start with 'country_'\n",
        "country_columns = [col for col in merged_data.columns if col.startswith('country_')]\n",
        "merged_data = merged_data.drop(columns=country_columns)\n",
        "# List the columns to remove based on their names\n",
        "columns_to_drop = ['Unnamed: 0.1', 'Unnamed: 0']\n",
        "\n",
        "# Drop the unnecessary columns\n",
        "merged_data = merged_data.drop(columns=columns_to_drop)"
      ]
    },
    {
      "cell_type": "code",
      "execution_count": 10,
      "metadata": {
        "colab": {
          "base_uri": "https://localhost:8080/"
        },
        "id": "2O4HqRdrAziF",
        "outputId": "78671794-9249-41c2-95d7-95187bc9b404"
      },
      "outputs": [
        {
          "name": "stdout",
          "output_type": "stream",
          "text": [
            "Shape of merged_data after dropping country/region columns: (573772, 273)\n"
          ]
        }
      ],
      "source": [
        "# Verify the shape after dropping the columns\n",
        "print(\"Shape of merged_data after dropping country/region columns:\", merged_data.shape)"
      ]
    },
    {
      "cell_type": "markdown",
      "metadata": {
        "id": "9SVl9h1ZWPYD"
      },
      "source": [
        "## Handling the redundant gender columns"
      ]
    },
    {
      "cell_type": "code",
      "execution_count": 11,
      "metadata": {
        "colab": {
          "base_uri": "https://localhost:8080/"
        },
        "id": "G5ZirivuIQ_E",
        "outputId": "3ea055b3-e1cb-4621-cc97-c4b18229069b"
      },
      "outputs": [
        {
          "name": "stderr",
          "output_type": "stream",
          "text": [
            "<ipython-input-11-ea77c7a9e2d5>:2: PerformanceWarning: DataFrame is highly fragmented.  This is usually the result of calling `frame.insert` many times, which has poor performance.  Consider joining all columns at once using pd.concat(axis=1) instead. To get a de-fragmented frame, use `newframe = frame.copy()`\n",
            "  merged_data['gender'] = merged_data.apply(lambda row: 'Female' if row['gender_FEMALE'] == 1.0\n"
          ]
        }
      ],
      "source": [
        "# Create a new column 'gender' by combining the three gender columns\n",
        "merged_data['gender'] = merged_data.apply(lambda row: 'Female' if row['gender_FEMALE'] == 1.0\n",
        "                        else ('Male' if row['gender_MALE'] == 1.0\n",
        "                        else ('Unknown' if row['gender_UNKNOWN'] == 1.0\n",
        "                        else None)), axis=1)\n",
        "\n",
        "# Drop the original gender columns if no longer needed\n",
        "merged_data= merged_data.drop(columns=['gender_FEMALE', 'gender_MALE', 'gender_UNKNOWN'])"
      ]
    },
    {
      "cell_type": "markdown",
      "metadata": {
        "id": "2P0j6vCSWVft"
      },
      "source": [
        "## Handling the study status mapping"
      ]
    },
    {
      "cell_type": "code",
      "execution_count": 12,
      "metadata": {
        "colab": {
          "base_uri": "https://localhost:8080/"
        },
        "id": "FZ7Bzd3wJHb5",
        "outputId": "78ad7760-226c-4373-a367-4f98143c2829"
      },
      "outputs": [
        {
          "name": "stderr",
          "output_type": "stream",
          "text": [
            "<ipython-input-12-9d4fe51d0a98>:2: PerformanceWarning: DataFrame is highly fragmented.  This is usually the result of calling `frame.insert` many times, which has poor performance.  Consider joining all columns at once using pd.concat(axis=1) instead. To get a de-fragmented frame, use `newframe = frame.copy()`\n",
            "  merged_data['study_status'] = merged_data['Study Status'].apply(lambda x: 1 if x == 'COMPLETED' else 0)\n"
          ]
        }
      ],
      "source": [
        "# Create the 'study_status' column\n",
        "merged_data['study_status'] = merged_data['Study Status'].apply(lambda x: 1 if x == 'COMPLETED' else 0)"
      ]
    },
    {
      "cell_type": "markdown",
      "metadata": {
        "id": "6iytvyRhWYm7"
      },
      "source": [
        "## Dropping the unnecessary columns afer processing and retianing required information"
      ]
    },
    {
      "cell_type": "code",
      "execution_count": 13,
      "metadata": {
        "id": "DyubleM3JUc-"
      },
      "outputs": [],
      "source": [
        "# Drop the redundant columns\n",
        "merged_data.drop(columns=['Study Status', 'Study Status_COMPLETED', 'Study Status_SUSPENDED',\n",
        "                 'Study Status_TERMINATED', 'Study Status_WITHDRAWN'], inplace=True)\n",
        "# Drop the redundant columns\n",
        "merged_data.drop(columns=['gender_ALL'], inplace=True)\n",
        "merged_data.drop(['minimum_age', 'maximum_age'], axis=1, inplace=True)"
      ]
    },
    {
      "cell_type": "code",
      "execution_count": 14,
      "metadata": {
        "id": "DCUO58y7E-5U"
      },
      "outputs": [],
      "source": [
        "# Load the dataset\n",
        "df = merged_data\n",
        "\n",
        "# Columns to drop\n",
        "columns_to_drop = [\n",
        "    'Study Title', 'Study URL', 'Acronym', 'Other IDs', 'id_x', 'id_y', 'id_reported_events',\n",
        "    'id_facilities', 'Study Documents', 'drop_withdraw_comment', 'reason_comment', 'name',\n",
        "    'city', 'state', 'zip', 'result_group_id_reported_events', 'ctgov_group_code_reported_events',\n",
        "    'result_group_id_facilities', 'event_type', 'default_vocab', 'default_assessment',\n",
        "    'subjects_affected', 'subjects_at_risk', 'event_count', 'organ_system', 'frequency_threshold',\n",
        "    'vocab', 'assessment', 'Study Results', 'Results First Posted', 'Last Update Posted'\n",
        "]\n",
        "\n",
        "# Drop irrelevant columns\n",
        "df = df.drop(columns=columns_to_drop, errors='ignore')\n",
        "\n",
        "# Handle missing values (optional: drop or fill them)\n",
        "df = df.dropna()"
      ]
    },
    {
      "cell_type": "code",
      "execution_count": 15,
      "metadata": {
        "colab": {
          "base_uri": "https://localhost:8080/"
        },
        "id": "a2T9eoaXHviH",
        "outputId": "b5e8ef15-da6d-43e2-8672-ea9a5ccce856"
      },
      "outputs": [
        {
          "name": "stderr",
          "output_type": "stream",
          "text": [
            "<ipython-input-15-15ae31229ad3>:4: SettingWithCopyWarning: \n",
            "A value is trying to be set on a copy of a slice from a DataFrame.\n",
            "Try using .loc[row_indexer,col_indexer] = value instead\n",
            "\n",
            "See the caveats in the documentation: https://pandas.pydata.org/pandas-docs/stable/user_guide/indexing.html#returning-a-view-versus-a-copy\n",
            "  df[target_column] = label_encoder.fit_transform(df[target_column])\n"
          ]
        }
      ],
      "source": [
        "# Encode target variable\n",
        "target_column = 'study_status'  # Replace with your target column\n",
        "label_encoder = LabelEncoder()\n",
        "df[target_column] = label_encoder.fit_transform(df[target_column])\n"
      ]
    },
    {
      "cell_type": "markdown",
      "metadata": {
        "id": "ENE8NdnGXif1"
      },
      "source": [
        "## Standardizaition and splitting of the data into features and target.\n",
        "\n",
        "**Defined Features (X) and Target Variable (y)**\n",
        "\n",
        "\n",
        "1.  In supervised machine learning, we need to separate the features (input variables) from the target variable (output variable).\n",
        "2.  The target variable `(y)` is the variable we want to predict.\n",
        "3. In this case, it is the `study_status`, which indicates the study status of individuals.\n",
        "4. The features `(X)` are all the other variables in the dataset that will help us predict the target variable. We drop the study_status column from `merged_data` to get the feature set.\n",
        "\n",
        "**Encoding the Target Variable:**\n",
        "\n",
        "The target variable (`study_status`) is encoded using `LabelEncoder` to convert its categorical values into numerical labels. This transformation is necessary for most machine learning algorithms that require numerical inputs. Each unique category in `study_status` is assigned a corresponding integer value."
      ]
    },
    {
      "cell_type": "code",
      "execution_count": 16,
      "metadata": {
        "id": "3Xjer5uxHxaJ"
      },
      "outputs": [],
      "source": [
        "# Separate features and target\n",
        "X = df.drop(columns=[target_column])\n",
        "y = df[target_column]"
      ]
    },
    {
      "cell_type": "code",
      "execution_count": 17,
      "metadata": {
        "id": "NWbw-ug6HzUy"
      },
      "outputs": [],
      "source": [
        "# Making necessary type conversions in order to ensure the datatype is correctly maintained for the classifier to funciton.\n",
        "from sklearn.preprocessing import LabelEncoder\n",
        "categorical_columns = X.select_dtypes(include=['object', 'category']).columns\n",
        "\n",
        "for col in categorical_columns:\n",
        "    X[col] = X[col].astype(str)\n",
        "\n",
        "label_encoders = {}\n",
        "for col in categorical_columns:\n",
        "    le = LabelEncoder()\n",
        "    X[col] = le.fit_transform(X[col])\n",
        "    label_encoders[col] = le\n"
      ]
    },
    {
      "cell_type": "code",
      "execution_count": 18,
      "metadata": {
        "id": "BzwpJtmPIHRI"
      },
      "outputs": [],
      "source": [
        "#Standardise the data for proper usage.\n",
        "# Scale numerical features\n",
        "scaler = StandardScaler()\n",
        "X_scaled = scaler.fit_transform(X)"
      ]
    },
    {
      "cell_type": "code",
      "execution_count": 19,
      "metadata": {
        "id": "7iriEtcAIJbK"
      },
      "outputs": [],
      "source": [
        "# Split the dataset: 80% for training, 20% for testing\n",
        "X_train, X_test, y_train, y_test = train_test_split(X_scaled, y, test_size=0.2, random_state=42)"
      ]
    },
    {
      "cell_type": "markdown",
      "metadata": {
        "id": "XYNUZzkWLPQ9"
      },
      "source": [
        "# Creating the model: Random Forest\n",
        "\n",
        "**Theory:**\n",
        "\n",
        "The Random Forest algorithm is an `ensemble learning` technique used for both classification and regression tasks. It operates by constructing `multiple decision trees` during training and combines their predictions to improve the overall performance and reduce overfitting. The key idea behind Random Forest is to aggregate predictions from diverse trees to achieve better accuracy and robustness.\n",
        "\n",
        "**Random Forest works by:**\n",
        "\n",
        "Randomly selecting subsets of features (`feature bagging`) and data samples (`row bagging`) for training individual decision trees.\n",
        "1. Each decision tree is trained independently on these random subsets.\n",
        "2. The final prediction is obtained by voting (`for classification`) or averaging (`for regression`) the outputs of all trees.\n",
        "\n",
        "**Important Parameters:**\n",
        "1. `Number of Trees (n_estimators)`: The number of decision trees in the forest.\n",
        "2. `Maximum Depth (max_depth)`: The maximum depth of each tree, controlling complexity.\n",
        "3. `Features per Split (max_features)`: The number of features considered for splitting at each node.\n",
        "\n",
        "**Random Forest for Classification:**\n",
        "If we have *N*  decision trees in the forest, and each tree $T_i(x)$ predicts the class for an input *x* the final class *y* is determined by majority voting:\n",
        "\n",
        "$$\n",
        "y = \\text{mode}\\{T_1(x), T_2(x), T_3(x), \\dots, T_N(x)\\}\n",
        "$$\n",
        "\n",
        "**Advantages:**\n",
        "1. Handles both numerical and categorical data effectively.\n",
        "2. Reduces overfitting by aggregating predictions from multiple trees.\n",
        "3. Can handle missing values and maintain accuracy even with noisy data.\n",
        "\n",
        "By creating a Random Forest model, we aim to leverage its ensemble power to improve prediction accuracy while maintaining generalization."
      ]
    },
    {
      "cell_type": "code",
      "execution_count": 21,
      "metadata": {
        "colab": {
          "base_uri": "https://localhost:8080/",
          "height": 80
        },
        "id": "lF8j5DitIK-E",
        "outputId": "fb360faf-9ac7-4bd7-c581-35dc4a231043"
      },
      "outputs": [
        {
          "data": {
            "text/html": [
              "<style>#sk-container-id-2 {\n",
              "  /* Definition of color scheme common for light and dark mode */\n",
              "  --sklearn-color-text: #000;\n",
              "  --sklearn-color-text-muted: #666;\n",
              "  --sklearn-color-line: gray;\n",
              "  /* Definition of color scheme for unfitted estimators */\n",
              "  --sklearn-color-unfitted-level-0: #fff5e6;\n",
              "  --sklearn-color-unfitted-level-1: #f6e4d2;\n",
              "  --sklearn-color-unfitted-level-2: #ffe0b3;\n",
              "  --sklearn-color-unfitted-level-3: chocolate;\n",
              "  /* Definition of color scheme for fitted estimators */\n",
              "  --sklearn-color-fitted-level-0: #f0f8ff;\n",
              "  --sklearn-color-fitted-level-1: #d4ebff;\n",
              "  --sklearn-color-fitted-level-2: #b3dbfd;\n",
              "  --sklearn-color-fitted-level-3: cornflowerblue;\n",
              "\n",
              "  /* Specific color for light theme */\n",
              "  --sklearn-color-text-on-default-background: var(--sg-text-color, var(--theme-code-foreground, var(--jp-content-font-color1, black)));\n",
              "  --sklearn-color-background: var(--sg-background-color, var(--theme-background, var(--jp-layout-color0, white)));\n",
              "  --sklearn-color-border-box: var(--sg-text-color, var(--theme-code-foreground, var(--jp-content-font-color1, black)));\n",
              "  --sklearn-color-icon: #696969;\n",
              "\n",
              "  @media (prefers-color-scheme: dark) {\n",
              "    /* Redefinition of color scheme for dark theme */\n",
              "    --sklearn-color-text-on-default-background: var(--sg-text-color, var(--theme-code-foreground, var(--jp-content-font-color1, white)));\n",
              "    --sklearn-color-background: var(--sg-background-color, var(--theme-background, var(--jp-layout-color0, #111)));\n",
              "    --sklearn-color-border-box: var(--sg-text-color, var(--theme-code-foreground, var(--jp-content-font-color1, white)));\n",
              "    --sklearn-color-icon: #878787;\n",
              "  }\n",
              "}\n",
              "\n",
              "#sk-container-id-2 {\n",
              "  color: var(--sklearn-color-text);\n",
              "}\n",
              "\n",
              "#sk-container-id-2 pre {\n",
              "  padding: 0;\n",
              "}\n",
              "\n",
              "#sk-container-id-2 input.sk-hidden--visually {\n",
              "  border: 0;\n",
              "  clip: rect(1px 1px 1px 1px);\n",
              "  clip: rect(1px, 1px, 1px, 1px);\n",
              "  height: 1px;\n",
              "  margin: -1px;\n",
              "  overflow: hidden;\n",
              "  padding: 0;\n",
              "  position: absolute;\n",
              "  width: 1px;\n",
              "}\n",
              "\n",
              "#sk-container-id-2 div.sk-dashed-wrapped {\n",
              "  border: 1px dashed var(--sklearn-color-line);\n",
              "  margin: 0 0.4em 0.5em 0.4em;\n",
              "  box-sizing: border-box;\n",
              "  padding-bottom: 0.4em;\n",
              "  background-color: var(--sklearn-color-background);\n",
              "}\n",
              "\n",
              "#sk-container-id-2 div.sk-container {\n",
              "  /* jupyter's `normalize.less` sets `[hidden] { display: none; }`\n",
              "     but bootstrap.min.css set `[hidden] { display: none !important; }`\n",
              "     so we also need the `!important` here to be able to override the\n",
              "     default hidden behavior on the sphinx rendered scikit-learn.org.\n",
              "     See: https://github.com/scikit-learn/scikit-learn/issues/21755 */\n",
              "  display: inline-block !important;\n",
              "  position: relative;\n",
              "}\n",
              "\n",
              "#sk-container-id-2 div.sk-text-repr-fallback {\n",
              "  display: none;\n",
              "}\n",
              "\n",
              "div.sk-parallel-item,\n",
              "div.sk-serial,\n",
              "div.sk-item {\n",
              "  /* draw centered vertical line to link estimators */\n",
              "  background-image: linear-gradient(var(--sklearn-color-text-on-default-background), var(--sklearn-color-text-on-default-background));\n",
              "  background-size: 2px 100%;\n",
              "  background-repeat: no-repeat;\n",
              "  background-position: center center;\n",
              "}\n",
              "\n",
              "/* Parallel-specific style estimator block */\n",
              "\n",
              "#sk-container-id-2 div.sk-parallel-item::after {\n",
              "  content: \"\";\n",
              "  width: 100%;\n",
              "  border-bottom: 2px solid var(--sklearn-color-text-on-default-background);\n",
              "  flex-grow: 1;\n",
              "}\n",
              "\n",
              "#sk-container-id-2 div.sk-parallel {\n",
              "  display: flex;\n",
              "  align-items: stretch;\n",
              "  justify-content: center;\n",
              "  background-color: var(--sklearn-color-background);\n",
              "  position: relative;\n",
              "}\n",
              "\n",
              "#sk-container-id-2 div.sk-parallel-item {\n",
              "  display: flex;\n",
              "  flex-direction: column;\n",
              "}\n",
              "\n",
              "#sk-container-id-2 div.sk-parallel-item:first-child::after {\n",
              "  align-self: flex-end;\n",
              "  width: 50%;\n",
              "}\n",
              "\n",
              "#sk-container-id-2 div.sk-parallel-item:last-child::after {\n",
              "  align-self: flex-start;\n",
              "  width: 50%;\n",
              "}\n",
              "\n",
              "#sk-container-id-2 div.sk-parallel-item:only-child::after {\n",
              "  width: 0;\n",
              "}\n",
              "\n",
              "/* Serial-specific style estimator block */\n",
              "\n",
              "#sk-container-id-2 div.sk-serial {\n",
              "  display: flex;\n",
              "  flex-direction: column;\n",
              "  align-items: center;\n",
              "  background-color: var(--sklearn-color-background);\n",
              "  padding-right: 1em;\n",
              "  padding-left: 1em;\n",
              "}\n",
              "\n",
              "\n",
              "/* Toggleable style: style used for estimator/Pipeline/ColumnTransformer box that is\n",
              "clickable and can be expanded/collapsed.\n",
              "- Pipeline and ColumnTransformer use this feature and define the default style\n",
              "- Estimators will overwrite some part of the style using the `sk-estimator` class\n",
              "*/\n",
              "\n",
              "/* Pipeline and ColumnTransformer style (default) */\n",
              "\n",
              "#sk-container-id-2 div.sk-toggleable {\n",
              "  /* Default theme specific background. It is overwritten whether we have a\n",
              "  specific estimator or a Pipeline/ColumnTransformer */\n",
              "  background-color: var(--sklearn-color-background);\n",
              "}\n",
              "\n",
              "/* Toggleable label */\n",
              "#sk-container-id-2 label.sk-toggleable__label {\n",
              "  cursor: pointer;\n",
              "  display: flex;\n",
              "  width: 100%;\n",
              "  margin-bottom: 0;\n",
              "  padding: 0.5em;\n",
              "  box-sizing: border-box;\n",
              "  text-align: center;\n",
              "  align-items: start;\n",
              "  justify-content: space-between;\n",
              "  gap: 0.5em;\n",
              "}\n",
              "\n",
              "#sk-container-id-2 label.sk-toggleable__label .caption {\n",
              "  font-size: 0.6rem;\n",
              "  font-weight: lighter;\n",
              "  color: var(--sklearn-color-text-muted);\n",
              "}\n",
              "\n",
              "#sk-container-id-2 label.sk-toggleable__label-arrow:before {\n",
              "  /* Arrow on the left of the label */\n",
              "  content: \"▸\";\n",
              "  float: left;\n",
              "  margin-right: 0.25em;\n",
              "  color: var(--sklearn-color-icon);\n",
              "}\n",
              "\n",
              "#sk-container-id-2 label.sk-toggleable__label-arrow:hover:before {\n",
              "  color: var(--sklearn-color-text);\n",
              "}\n",
              "\n",
              "/* Toggleable content - dropdown */\n",
              "\n",
              "#sk-container-id-2 div.sk-toggleable__content {\n",
              "  max-height: 0;\n",
              "  max-width: 0;\n",
              "  overflow: hidden;\n",
              "  text-align: left;\n",
              "  /* unfitted */\n",
              "  background-color: var(--sklearn-color-unfitted-level-0);\n",
              "}\n",
              "\n",
              "#sk-container-id-2 div.sk-toggleable__content.fitted {\n",
              "  /* fitted */\n",
              "  background-color: var(--sklearn-color-fitted-level-0);\n",
              "}\n",
              "\n",
              "#sk-container-id-2 div.sk-toggleable__content pre {\n",
              "  margin: 0.2em;\n",
              "  border-radius: 0.25em;\n",
              "  color: var(--sklearn-color-text);\n",
              "  /* unfitted */\n",
              "  background-color: var(--sklearn-color-unfitted-level-0);\n",
              "}\n",
              "\n",
              "#sk-container-id-2 div.sk-toggleable__content.fitted pre {\n",
              "  /* unfitted */\n",
              "  background-color: var(--sklearn-color-fitted-level-0);\n",
              "}\n",
              "\n",
              "#sk-container-id-2 input.sk-toggleable__control:checked~div.sk-toggleable__content {\n",
              "  /* Expand drop-down */\n",
              "  max-height: 200px;\n",
              "  max-width: 100%;\n",
              "  overflow: auto;\n",
              "}\n",
              "\n",
              "#sk-container-id-2 input.sk-toggleable__control:checked~label.sk-toggleable__label-arrow:before {\n",
              "  content: \"▾\";\n",
              "}\n",
              "\n",
              "/* Pipeline/ColumnTransformer-specific style */\n",
              "\n",
              "#sk-container-id-2 div.sk-label input.sk-toggleable__control:checked~label.sk-toggleable__label {\n",
              "  color: var(--sklearn-color-text);\n",
              "  background-color: var(--sklearn-color-unfitted-level-2);\n",
              "}\n",
              "\n",
              "#sk-container-id-2 div.sk-label.fitted input.sk-toggleable__control:checked~label.sk-toggleable__label {\n",
              "  background-color: var(--sklearn-color-fitted-level-2);\n",
              "}\n",
              "\n",
              "/* Estimator-specific style */\n",
              "\n",
              "/* Colorize estimator box */\n",
              "#sk-container-id-2 div.sk-estimator input.sk-toggleable__control:checked~label.sk-toggleable__label {\n",
              "  /* unfitted */\n",
              "  background-color: var(--sklearn-color-unfitted-level-2);\n",
              "}\n",
              "\n",
              "#sk-container-id-2 div.sk-estimator.fitted input.sk-toggleable__control:checked~label.sk-toggleable__label {\n",
              "  /* fitted */\n",
              "  background-color: var(--sklearn-color-fitted-level-2);\n",
              "}\n",
              "\n",
              "#sk-container-id-2 div.sk-label label.sk-toggleable__label,\n",
              "#sk-container-id-2 div.sk-label label {\n",
              "  /* The background is the default theme color */\n",
              "  color: var(--sklearn-color-text-on-default-background);\n",
              "}\n",
              "\n",
              "/* On hover, darken the color of the background */\n",
              "#sk-container-id-2 div.sk-label:hover label.sk-toggleable__label {\n",
              "  color: var(--sklearn-color-text);\n",
              "  background-color: var(--sklearn-color-unfitted-level-2);\n",
              "}\n",
              "\n",
              "/* Label box, darken color on hover, fitted */\n",
              "#sk-container-id-2 div.sk-label.fitted:hover label.sk-toggleable__label.fitted {\n",
              "  color: var(--sklearn-color-text);\n",
              "  background-color: var(--sklearn-color-fitted-level-2);\n",
              "}\n",
              "\n",
              "/* Estimator label */\n",
              "\n",
              "#sk-container-id-2 div.sk-label label {\n",
              "  font-family: monospace;\n",
              "  font-weight: bold;\n",
              "  display: inline-block;\n",
              "  line-height: 1.2em;\n",
              "}\n",
              "\n",
              "#sk-container-id-2 div.sk-label-container {\n",
              "  text-align: center;\n",
              "}\n",
              "\n",
              "/* Estimator-specific */\n",
              "#sk-container-id-2 div.sk-estimator {\n",
              "  font-family: monospace;\n",
              "  border: 1px dotted var(--sklearn-color-border-box);\n",
              "  border-radius: 0.25em;\n",
              "  box-sizing: border-box;\n",
              "  margin-bottom: 0.5em;\n",
              "  /* unfitted */\n",
              "  background-color: var(--sklearn-color-unfitted-level-0);\n",
              "}\n",
              "\n",
              "#sk-container-id-2 div.sk-estimator.fitted {\n",
              "  /* fitted */\n",
              "  background-color: var(--sklearn-color-fitted-level-0);\n",
              "}\n",
              "\n",
              "/* on hover */\n",
              "#sk-container-id-2 div.sk-estimator:hover {\n",
              "  /* unfitted */\n",
              "  background-color: var(--sklearn-color-unfitted-level-2);\n",
              "}\n",
              "\n",
              "#sk-container-id-2 div.sk-estimator.fitted:hover {\n",
              "  /* fitted */\n",
              "  background-color: var(--sklearn-color-fitted-level-2);\n",
              "}\n",
              "\n",
              "/* Specification for estimator info (e.g. \"i\" and \"?\") */\n",
              "\n",
              "/* Common style for \"i\" and \"?\" */\n",
              "\n",
              ".sk-estimator-doc-link,\n",
              "a:link.sk-estimator-doc-link,\n",
              "a:visited.sk-estimator-doc-link {\n",
              "  float: right;\n",
              "  font-size: smaller;\n",
              "  line-height: 1em;\n",
              "  font-family: monospace;\n",
              "  background-color: var(--sklearn-color-background);\n",
              "  border-radius: 1em;\n",
              "  height: 1em;\n",
              "  width: 1em;\n",
              "  text-decoration: none !important;\n",
              "  margin-left: 0.5em;\n",
              "  text-align: center;\n",
              "  /* unfitted */\n",
              "  border: var(--sklearn-color-unfitted-level-1) 1pt solid;\n",
              "  color: var(--sklearn-color-unfitted-level-1);\n",
              "}\n",
              "\n",
              ".sk-estimator-doc-link.fitted,\n",
              "a:link.sk-estimator-doc-link.fitted,\n",
              "a:visited.sk-estimator-doc-link.fitted {\n",
              "  /* fitted */\n",
              "  border: var(--sklearn-color-fitted-level-1) 1pt solid;\n",
              "  color: var(--sklearn-color-fitted-level-1);\n",
              "}\n",
              "\n",
              "/* On hover */\n",
              "div.sk-estimator:hover .sk-estimator-doc-link:hover,\n",
              ".sk-estimator-doc-link:hover,\n",
              "div.sk-label-container:hover .sk-estimator-doc-link:hover,\n",
              ".sk-estimator-doc-link:hover {\n",
              "  /* unfitted */\n",
              "  background-color: var(--sklearn-color-unfitted-level-3);\n",
              "  color: var(--sklearn-color-background);\n",
              "  text-decoration: none;\n",
              "}\n",
              "\n",
              "div.sk-estimator.fitted:hover .sk-estimator-doc-link.fitted:hover,\n",
              ".sk-estimator-doc-link.fitted:hover,\n",
              "div.sk-label-container:hover .sk-estimator-doc-link.fitted:hover,\n",
              ".sk-estimator-doc-link.fitted:hover {\n",
              "  /* fitted */\n",
              "  background-color: var(--sklearn-color-fitted-level-3);\n",
              "  color: var(--sklearn-color-background);\n",
              "  text-decoration: none;\n",
              "}\n",
              "\n",
              "/* Span, style for the box shown on hovering the info icon */\n",
              ".sk-estimator-doc-link span {\n",
              "  display: none;\n",
              "  z-index: 9999;\n",
              "  position: relative;\n",
              "  font-weight: normal;\n",
              "  right: .2ex;\n",
              "  padding: .5ex;\n",
              "  margin: .5ex;\n",
              "  width: min-content;\n",
              "  min-width: 20ex;\n",
              "  max-width: 50ex;\n",
              "  color: var(--sklearn-color-text);\n",
              "  box-shadow: 2pt 2pt 4pt #999;\n",
              "  /* unfitted */\n",
              "  background: var(--sklearn-color-unfitted-level-0);\n",
              "  border: .5pt solid var(--sklearn-color-unfitted-level-3);\n",
              "}\n",
              "\n",
              ".sk-estimator-doc-link.fitted span {\n",
              "  /* fitted */\n",
              "  background: var(--sklearn-color-fitted-level-0);\n",
              "  border: var(--sklearn-color-fitted-level-3);\n",
              "}\n",
              "\n",
              ".sk-estimator-doc-link:hover span {\n",
              "  display: block;\n",
              "}\n",
              "\n",
              "/* \"?\"-specific style due to the `<a>` HTML tag */\n",
              "\n",
              "#sk-container-id-2 a.estimator_doc_link {\n",
              "  float: right;\n",
              "  font-size: 1rem;\n",
              "  line-height: 1em;\n",
              "  font-family: monospace;\n",
              "  background-color: var(--sklearn-color-background);\n",
              "  border-radius: 1rem;\n",
              "  height: 1rem;\n",
              "  width: 1rem;\n",
              "  text-decoration: none;\n",
              "  /* unfitted */\n",
              "  color: var(--sklearn-color-unfitted-level-1);\n",
              "  border: var(--sklearn-color-unfitted-level-1) 1pt solid;\n",
              "}\n",
              "\n",
              "#sk-container-id-2 a.estimator_doc_link.fitted {\n",
              "  /* fitted */\n",
              "  border: var(--sklearn-color-fitted-level-1) 1pt solid;\n",
              "  color: var(--sklearn-color-fitted-level-1);\n",
              "}\n",
              "\n",
              "/* On hover */\n",
              "#sk-container-id-2 a.estimator_doc_link:hover {\n",
              "  /* unfitted */\n",
              "  background-color: var(--sklearn-color-unfitted-level-3);\n",
              "  color: var(--sklearn-color-background);\n",
              "  text-decoration: none;\n",
              "}\n",
              "\n",
              "#sk-container-id-2 a.estimator_doc_link.fitted:hover {\n",
              "  /* fitted */\n",
              "  background-color: var(--sklearn-color-fitted-level-3);\n",
              "}\n",
              "</style><div id=\"sk-container-id-2\" class=\"sk-top-container\"><div class=\"sk-text-repr-fallback\"><pre>RandomForestClassifier(random_state=42)</pre><b>In a Jupyter environment, please rerun this cell to show the HTML representation or trust the notebook. <br />On GitHub, the HTML representation is unable to render, please try loading this page with nbviewer.org.</b></div><div class=\"sk-container\" hidden><div class=\"sk-item\"><div class=\"sk-estimator fitted sk-toggleable\"><input class=\"sk-toggleable__control sk-hidden--visually\" id=\"sk-estimator-id-2\" type=\"checkbox\" checked><label for=\"sk-estimator-id-2\" class=\"sk-toggleable__label fitted sk-toggleable__label-arrow\"><div><div>RandomForestClassifier</div></div><div><a class=\"sk-estimator-doc-link fitted\" rel=\"noreferrer\" target=\"_blank\" href=\"https://scikit-learn.org/1.6/modules/generated/sklearn.ensemble.RandomForestClassifier.html\">?<span>Documentation for RandomForestClassifier</span></a><span class=\"sk-estimator-doc-link fitted\">i<span>Fitted</span></span></div></label><div class=\"sk-toggleable__content fitted\"><pre>RandomForestClassifier(random_state=42)</pre></div> </div></div></div></div>"
            ],
            "text/plain": [
              "RandomForestClassifier(random_state=42)"
            ]
          },
          "execution_count": 21,
          "metadata": {},
          "output_type": "execute_result"
        }
      ],
      "source": [
        "# Build a classification model\n",
        "model = RandomForestClassifier(random_state=42)\n",
        "model.fit(X_train, y_train)"
      ]
    },
    {
      "cell_type": "code",
      "execution_count": null,
      "metadata": {
        "id": "i3PAiuwiiV6i"
      },
      "outputs": [],
      "source": []
    },
    {
      "cell_type": "markdown",
      "metadata": {
        "id": "TpiZb09PYGum"
      },
      "source": [
        "# Evaluating the model for accuracy\n",
        "\n",
        "In this step, we evaluate the performance of the trained machine learning model on unseen data using various evaluation metrics. The goal is to assess how well the model is predicting the target variable `(study_status)` based on the features `(X_test)`. Below are the key metrics used to evaluate the model's performance:\n",
        "\n",
        "1. **Accuracy**\n",
        "\n",
        "Accuracy is one of the most common evaluation metrics for classification tasks. It measures the proportion of correctly predicted instances to the total instances in the test dataset. It may be given by:\n",
        "\n",
        "$$\\text{Accuracy} = \\frac{\\text{TP} + \\text{TN}}{\\text{TP} + \\text{TN} + \\text{FP} + \\text{FN}}$$\n",
        "\n",
        "Where:\n",
        "-  **TP:** True Positives (correctly predicted positive cases)\n",
        "\n",
        "- **TN:** True Negatives (correctly predicted negative cases)\n",
        "\n",
        "- **FP:** False Positives (incorrectly predicted as positive)\n",
        "\n",
        "- **FN:** False Negatives (incorrectly predicted as negative)\n",
        "\n",
        "2. **Classification Report**\n",
        "\n",
        "A classification report provides a comprehensive overview of how well the classifier performs across different classes.\n",
        "\n",
        "It includes the following key metrics:\n",
        "\n",
        "- **Precision:** The proportion of correctly predicted positive instances among all predicted positive instances.\n",
        "\n",
        "$$\\text{Precision} = \\frac{\\text{TP}}{\\text{TP} +\\text{FP}}$$\n",
        "\n",
        "- **Recall (Sensitivity or True Positive Rate)**: The proportion of correctly predicted positive instances among all actual positive instances.\n",
        "\n",
        "$$\\text{Recall} = \\frac{\\text{TP}}{\\text{TP} +\\text{FN}}$$\n",
        "\n",
        "\n",
        "- **F1-Score:** The harmonic mean of Precision and Recall. It provides a balanced measure of both, especially useful in cases of class imbalance.\n",
        "\n",
        "$$\\text{F1-Score} = \\frac{\\text{Precision} * \\text{Recall}}{\\text{Precision} + \\text{Recall}}$$\n",
        "\n",
        "- **Support:** The number of actual occurrences of the class in the dataset.\n",
        "\n",
        "- **The Confusion Matrix:** It provides a detailed breakdown of how the model is performing across each class by showing the true positive, true negative, false positive, and false negative counts\n",
        "\n",
        "- **ROC-AUC (Receiver Operating Characteristic - Area Under Curve):**\n",
        "The ROC-AUC score provides a comprehensive view of the model's ability to discriminate between classes, particularly in the case of imbalanced datasets. The ROC curve plots the true positive rate (recall) against the false positive rate, and the AUC score measures the area under this curve. The AUC ranges from `0 to 1`, where 1 represents perfect classification and 0.5 represents random guessing.\n",
        "\n"
      ]
    },
    {
      "cell_type": "code",
      "execution_count": 22,
      "metadata": {
        "colab": {
          "base_uri": "https://localhost:8080/"
        },
        "id": "R_wod3_SJrBj",
        "outputId": "0a93c60d-3f87-4478-a5ba-778353faa6e2"
      },
      "outputs": [
        {
          "name": "stdout",
          "output_type": "stream",
          "text": [
            "Accuracy: 0.9474\n",
            "Classification Report:\n",
            "              precision    recall  f1-score   support\n",
            "\n",
            "           0       1.00      0.59      0.74      1465\n",
            "           1       0.94      1.00      0.97     10132\n",
            "\n",
            "    accuracy                           0.95     11597\n",
            "   macro avg       0.97      0.79      0.85     11597\n",
            "weighted avg       0.95      0.95      0.94     11597\n",
            "\n",
            "Confusion Matrix:\n",
            "[[  859   606]\n",
            " [    4 10128]]\n",
            "ROC AUC: 0.7930\n"
          ]
        }
      ],
      "source": [
        "# Predict using the trained model\n",
        "y_pred = model.predict(X_test)\n",
        "\n",
        "# Accuracy\n",
        "accuracy = accuracy_score(y_test, y_pred)\n",
        "print(f\"Accuracy: {accuracy:.4f}\")\n",
        "# Print classification report directly without decoding\n",
        "print(\"Classification Report:\")\n",
        "print(classification_report(y_test, y_pred))\n",
        "print(\"Confusion Matrix:\")\n",
        "print(confusion_matrix(y_test, y_pred))\n",
        "roc_auc = roc_auc_score(y_test, y_pred)\n",
        "print(f\"ROC AUC: {roc_auc:.4f}\")"
      ]
    },
    {
      "cell_type": "markdown",
      "metadata": {
        "id": "BHVK5-RfOSAw"
      },
      "source": [
        " # Optimization"
      ]
    },
    {
      "cell_type": "markdown",
      "metadata": {
        "id": "zfJmKBrZKH0W"
      },
      "source": [
        "## Adjusting for Class Imbalance Using Class Weights\n",
        "In many real-world datasets, class imbalance is a common issue where certain classes are overrepresented compared to others. This can lead to biased predictions, as models may favor predicting the majority class, especially in classification tasks. To address this, we can adjust the model's learning process by using class weights.\n",
        "\n",
        "**What Are Class Weights?**\n",
        "Class weights are used to assign a higher penalty to misclassifications of underrepresented classes. This helps the model to focus more on the minority class, improving its ability to make accurate predictions across all classes, especially the less frequent ones.\n",
        "\n",
        "**The Formula for Class Weights:**\n",
        "In Random Forest Classifier, when `class_weight='balanced'` is specified, the class weights are automatically adjusted based on the frequency of each class in the training data.\n",
        "\n",
        "The weight for each class is calculated as:\n",
        "$$\n",
        "\\text{Class Weight for Class i} = \\frac{k \\cdot \\text{Frequency of Class i}}{N}\n",
        "$$\n",
        "\n",
        "Where:\n",
        "- *N* is the total number of samples in the dataset.\n",
        "- *k* is the number of classes."
      ]
    },
    {
      "cell_type": "code",
      "execution_count": 23,
      "metadata": {
        "colab": {
          "base_uri": "https://localhost:8080/"
        },
        "id": "mcF2Z7SOJuoA",
        "outputId": "9f96d4ea-ea41-4ebd-a4fc-a7be5bde8c94"
      },
      "outputs": [
        {
          "name": "stdout",
          "output_type": "stream",
          "text": [
            "Classification Report with class weights:\n",
            "              precision    recall  f1-score   support\n",
            "\n",
            "           0       0.99      0.57      0.73      1465\n",
            "           1       0.94      1.00      0.97     10132\n",
            "\n",
            "    accuracy                           0.95     11597\n",
            "   macro avg       0.97      0.79      0.85     11597\n",
            "weighted avg       0.95      0.95      0.94     11597\n",
            "\n"
          ]
        }
      ],
      "source": [
        "# Create a RandomForest model with class weights\n",
        "model = RandomForestClassifier(class_weight='balanced', random_state=42)\n",
        "\n",
        "# Train the model\n",
        "model.fit(X_train, y_train)\n",
        "\n",
        "# Predict on the test set\n",
        "y_pred = model.predict(X_test)\n",
        "\n",
        "# Print classification report\n",
        "print(\"Classification Report with class weights:\")\n",
        "print(classification_report(y_test, y_pred))"
      ]
    },
    {
      "cell_type": "markdown",
      "metadata": {
        "id": "4PmV5wh4YLc8"
      },
      "source": [
        "# Optimise the model for classification, further using Optuna\n",
        "Optuna is an efficient hyperparameter optimization framework that automates the process of finding the best hyperparameters for machine learning models. It uses **Bayesian Optimization** (primarily through the **TPE sampler**) to intelligently explore the hyperparameter space, focusing on promising regions based on previous trial results.\n",
        "\n",
        "### Key Components:\n",
        "1. **Study**: A collection of trials to optimize an objective function.\n",
        "2. **Trial**: A single evaluation of the objective function with specific hyperparameters.\n",
        "3. **Objective Function**: The function that takes a set of hyperparameters and returns a performance metric (e.g., accuracy).\n",
        "4. **Sampler**: Responsible for selecting the next set of hyperparameters. The default **TPESampler** uses a probabilistic model to guide the search.\n",
        "5. **Pruner**: Stops unpromising trials early to save computational resources.\n",
        "\n",
        "### Working:\n",
        "1. **Hyperparameter Search**: Optuna defines a search space and samples hyperparameters across different regions. It then evaluates the model using these parameters and returns the performance metric.\n",
        "2. **Optimization**: Based on trial results, Optuna refines the hyperparameter search, balancing exploration (trying unknown values) and exploitation (refining known good values).\n",
        "3. **Best Hyperparameters**: After multiple trials, Optuna outputs the hyperparameters that maximize or minimize the objective function.\n",
        "\n",
        "### Advantages:\n",
        "- **Efficiency**: By using Bayesian optimization, Optuna searches more intelligently than random or grid search.\n",
        "- **Early Stopping**: Unpromising trials are pruned, speeding up the process.\n",
        "- **Scalability**: It can handle large search spaces and can be parallelized.\n",
        "- **Flexibility**: Works with any machine learning model that follows scikit-learn conventions.\n",
        "\n",
        "Optuna is a powerful tool for hyperparameter tuning, improving model performance and saving computational resources by efficiently exploring the hyperparameter space."
      ]
    },
    {
      "cell_type": "code",
      "execution_count": null,
      "metadata": {
        "id": "vGMw-UobbAcs"
      },
      "outputs": [],
      "source": [
        "def objective(trial):\n",
        "    # Define the hyperparameters to tune\n",
        "    n_estimators = trial.suggest_int(\"n_estimators\", 100, 500)\n",
        "    max_depth = trial.suggest_int(\"max_depth\", 10, 50)\n",
        "    min_samples_split = trial.suggest_int(\"min_samples_split\", 2, 10)\n",
        "    min_samples_leaf = trial.suggest_int(\"min_samples_leaf\", 1, 5)\n",
        "    max_features = trial.suggest_categorical(\"max_features\", [\"sqrt\", \"log2\", None])  # Removed 'auto'\n",
        "    bootstrap = trial.suggest_categorical(\"bootstrap\", [True, False])\n",
        "\n",
        "    # Create the RandomForestClassifier with the sampled hyperparameters\n",
        "    model = RandomForestClassifier(\n",
        "        n_estimators=n_estimators,\n",
        "        max_depth=max_depth,\n",
        "        min_samples_split=min_samples_split,\n",
        "        min_samples_leaf=min_samples_leaf,\n",
        "        max_features=max_features,\n",
        "        bootstrap=bootstrap,\n",
        "        random_state=42,\n",
        "    )\n",
        "\n",
        "    # Train the model\n",
        "    model.fit(X_train, y_train)\n",
        "\n",
        "    # Predict on the test set\n",
        "    y_pred = model.predict(X_test)\n",
        "\n",
        "    # Calculate accuracy as the optimization metric\n",
        "    return accuracy_score(y_test, y_pred)\n",
        "\n",
        "# Run the optimization\n",
        "study = optuna.create_study(direction=\"maximize\")\n",
        "study.optimize(objective, n_trials=50)\n",
        "\n",
        "# Print the best hyperparameters and accuracy\n",
        "print(\"Best Hyperparameters:\", study.best_params)\n",
        "print(\"Best Accuracy:\", study.best_value)\n",
        "\n"
      ]
    },
    {
      "cell_type": "code",
      "execution_count": null,
      "metadata": {
        "id": "zOEbLI0ZtpO9"
      },
      "outputs": [],
      "source": [
        "study.optimize(objective, n_trials=50)"
      ]
    },
    {
      "cell_type": "code",
      "execution_count": null,
      "metadata": {
        "id": "QBZxKX1BpcIL"
      },
      "outputs": [],
      "source": [
        "\"# Initialize the model with the best hyperparameters\n",
        "optimized_model = RandomForestClassifier(\n",
        "    n_estimators=313,\n",
        "    max_depth=44,\n",
        "    min_samples_split=2,\n",
        "    min_samples_leaf=1,\n",
        "    max_features='sqrt',\n",
        "    bootstrap=False,\n",
        "    random_state=42\n",
        ")\n",
        "\n",
        "# Train the model on the training data\n",
        "optimized_model.fit(X_train, y_train)\n"
      ]
    },
    {
      "cell_type": "code",
      "execution_count": null,
      "metadata": {
        "id": "B4IvSYefBUOn"
      },
      "outputs": [],
      "source": [
        "# Predict on the test set\n",
        "y_pred = optimized_model.predict(X_test)\n",
        "\n",
        "# Print evaluation metrics\n",
        "print(\"Accuracy:\", accuracy_score(y_test, y_pred))\n",
        "print(\"Classification Report:\\n\", classification_report(y_test, y_pred))\n"
      ]
    },
    {
      "cell_type": "markdown",
      "metadata": {
        "id": "0fvYFZwHYYct"
      },
      "source": [
        "# Depiction of Feature Importance\n",
        "\n",
        "Feature importance highlights the contribution of each feature to the predictive power of the model. In a Random Forest, it is determined by assessing how much each feature reduces impurity (e.g., Gini impurity or entropy) across all the trees in the forest. Features with higher importance values are more influential in making predictions.\n",
        "\n",
        "To visualize feature importance, we can use bar plots or other visualizations to rank features based on their scores. This analysis helps in understanding the model’s decision-making process and identifying which features are critical for the predictions. It can also assist in feature selection, potentially reducing dimensionality and improving model efficiency."
      ]
    },
    {
      "cell_type": "code",
      "execution_count": null,
      "metadata": {
        "colab": {
          "base_uri": "https://localhost:8080/",
          "height": 584
        },
        "id": "MGHWbTq7BZLP",
        "outputId": "0a811812-1e54-4065-f698-9cae8ee1530c"
      },
      "outputs": [
        {
          "data": {
            "image/png": "[encoded data removed]",
            "text/plain": [
              "<Figure size 1000x600 with 1 Axes>"
            ]
          },
          "metadata": {},
          "output_type": "display_data"
        }
      ],
      "source": [
        "import matplotlib.pyplot as plt\n",
        "feature_importances = optimized_model.feature_importances_\n",
        "sorted_indices = feature_importances.argsort()\n",
        "\n",
        "plt.figure(figsize=(10, 6))\n",
        "plt.barh(range(len(sorted_indices)), feature_importances[sorted_indices], align=\"center\")\n",
        "plt.yticks(range(len(sorted_indices)), X_train.columns[sorted_indices])\n",
        "plt.xlabel(\"Feature Importance\")\n",
        "plt.title(\"Feature Importance in Random Forest\")\n",
        "plt.show()"
      ]
    },
    {
      "cell_type": "markdown",
      "metadata": {
        "id": "XHkItQvGYWhE"
      },
      "source": [
        "# Saving the Optimized Model\n",
        "\n",
        "After tuning the hyperparameters and identifying the best-performing Random Forest model, we save it using the `joblib library`. Saving the model ensures that we can reuse it later without needing to retrain, which saves time and computational resources. The optimized model, along with its best hyperparameters, is stored in the file `optimized_random_forest.pkl`. This file can be loaded whenever needed to make predictions or for further evaluations."
      ]
    },
    {
      "cell_type": "code",
      "execution_count": null,
      "metadata": {
        "id": "fF9B3jXoIk2H"
      },
      "outputs": [],
      "source": [
        "import joblib\n",
        "\n",
        "# Save the model\n",
        "joblib.dump(optimized_model, 'optimized_random_forest.pkl')\n",
        "\n",
        "# Load the model later\n",
        "loaded_model = joblib.load('optimized_random_forest.pkl')"
      ]
    }
  ],
  "metadata": {
    "accelerator": "GPU",
    "colab": {
      "collapsed_sections": [
        "k70MjPXJ-Apb",
        "1Vgkz0LOShu-",
        "6dBRd51tS0gy",
        "lTd4fELy957f",
        "z5FZxot-UMRs",
        "v00xak2rUZZQ",
        "2P0j6vCSWVft",
        "6iytvyRhWYm7",
        "XYNUZzkWLPQ9",
        "TpiZb09PYGum",
        "zfJmKBrZKH0W"
      ],
      "gpuType": "T4",
      "provenance": []
    },
    "kernelspec": {
      "display_name": "Python 3",
      "name": "python3"
    },
    "language_info": {
      "name": "python"
    }
  },
  "nbformat": 4,
  "nbformat_minor": 0
}
